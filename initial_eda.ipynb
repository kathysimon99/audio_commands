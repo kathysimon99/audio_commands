{
  "nbformat": 4,
  "nbformat_minor": 0,
  "metadata": {
    "colab": {
      "name": "initial_eda.ipynb",
      "provenance": [],
      "machine_shape": "hm"
    },
    "kernelspec": {
      "name": "python3",
      "display_name": "Python 3"
    },
    "language_info": {
      "name": "python"
    },
    "accelerator": "TPU",
    "widgets": {
      "application/vnd.jupyter.widget-state+json": {
        "ed9b3b05a3014878a0a3f30e73707ffb": {
          "model_module": "@jupyter-widgets/controls",
          "model_name": "HBoxModel",
          "model_module_version": "1.5.0",
          "state": {
            "_view_name": "HBoxView",
            "_dom_classes": [],
            "_model_name": "HBoxModel",
            "_view_module": "@jupyter-widgets/controls",
            "_model_module_version": "1.5.0",
            "_view_count": null,
            "_view_module_version": "1.5.0",
            "box_style": "",
            "layout": "IPY_MODEL_d5e72388341a4c05b10cacb50e6e720c",
            "_model_module": "@jupyter-widgets/controls",
            "children": [
              "IPY_MODEL_04c20f27a22b4cb683ca166253cb6f7e",
              "IPY_MODEL_8126245d180e48d2bcc1d5dde1bc9b96",
              "IPY_MODEL_a1871788171147118ad4b24c6538143d"
            ]
          }
        },
        "d5e72388341a4c05b10cacb50e6e720c": {
          "model_module": "@jupyter-widgets/base",
          "model_name": "LayoutModel",
          "model_module_version": "1.2.0",
          "state": {
            "_view_name": "LayoutView",
            "grid_template_rows": null,
            "right": null,
            "justify_content": null,
            "_view_module": "@jupyter-widgets/base",
            "overflow": null,
            "_model_module_version": "1.2.0",
            "_view_count": null,
            "flex_flow": null,
            "width": null,
            "min_width": null,
            "border": null,
            "align_items": null,
            "bottom": null,
            "_model_module": "@jupyter-widgets/base",
            "top": null,
            "grid_column": null,
            "overflow_y": null,
            "overflow_x": null,
            "grid_auto_flow": null,
            "grid_area": null,
            "grid_template_columns": null,
            "flex": null,
            "_model_name": "LayoutModel",
            "justify_items": null,
            "grid_row": null,
            "max_height": null,
            "align_content": null,
            "visibility": null,
            "align_self": null,
            "height": null,
            "min_height": null,
            "padding": null,
            "grid_auto_rows": null,
            "grid_gap": null,
            "max_width": null,
            "order": null,
            "_view_module_version": "1.2.0",
            "grid_template_areas": null,
            "object_position": null,
            "object_fit": null,
            "grid_auto_columns": null,
            "margin": null,
            "display": null,
            "left": null
          }
        },
        "04c20f27a22b4cb683ca166253cb6f7e": {
          "model_module": "@jupyter-widgets/controls",
          "model_name": "HTMLModel",
          "model_module_version": "1.5.0",
          "state": {
            "_view_name": "HTMLView",
            "style": "IPY_MODEL_626ab410bc204268ba4e96d1ce6c4362",
            "_dom_classes": [],
            "description": "",
            "_model_name": "HTMLModel",
            "placeholder": "​",
            "_view_module": "@jupyter-widgets/controls",
            "_model_module_version": "1.5.0",
            "value": "Dl Completed...: 100%",
            "_view_count": null,
            "_view_module_version": "1.5.0",
            "description_tooltip": null,
            "_model_module": "@jupyter-widgets/controls",
            "layout": "IPY_MODEL_7f7f1987c00541b891fe578d46fed5e9"
          }
        },
        "8126245d180e48d2bcc1d5dde1bc9b96": {
          "model_module": "@jupyter-widgets/controls",
          "model_name": "FloatProgressModel",
          "model_module_version": "1.5.0",
          "state": {
            "_view_name": "ProgressView",
            "style": "IPY_MODEL_32367e3a2dda48a2ac52ba3dabdbbf7f",
            "_dom_classes": [],
            "description": "",
            "_model_name": "FloatProgressModel",
            "bar_style": "success",
            "max": 1,
            "_view_module": "@jupyter-widgets/controls",
            "_model_module_version": "1.5.0",
            "value": 1,
            "_view_count": null,
            "_view_module_version": "1.5.0",
            "orientation": "horizontal",
            "min": 0,
            "description_tooltip": null,
            "_model_module": "@jupyter-widgets/controls",
            "layout": "IPY_MODEL_69365b25f81f4e6496cef482e76efc71"
          }
        },
        "a1871788171147118ad4b24c6538143d": {
          "model_module": "@jupyter-widgets/controls",
          "model_name": "HTMLModel",
          "model_module_version": "1.5.0",
          "state": {
            "_view_name": "HTMLView",
            "style": "IPY_MODEL_0bc1993ea19e45e495a70de1f8029160",
            "_dom_classes": [],
            "description": "",
            "_model_name": "HTMLModel",
            "placeholder": "​",
            "_view_module": "@jupyter-widgets/controls",
            "_model_module_version": "1.5.0",
            "value": " 2/2 [00:24&lt;00:00, 13.73s/ url]",
            "_view_count": null,
            "_view_module_version": "1.5.0",
            "description_tooltip": null,
            "_model_module": "@jupyter-widgets/controls",
            "layout": "IPY_MODEL_010ffbd0a8f84842b721f8085f167cc1"
          }
        },
        "626ab410bc204268ba4e96d1ce6c4362": {
          "model_module": "@jupyter-widgets/controls",
          "model_name": "DescriptionStyleModel",
          "model_module_version": "1.5.0",
          "state": {
            "_view_name": "StyleView",
            "_model_name": "DescriptionStyleModel",
            "description_width": "",
            "_view_module": "@jupyter-widgets/base",
            "_model_module_version": "1.5.0",
            "_view_count": null,
            "_view_module_version": "1.2.0",
            "_model_module": "@jupyter-widgets/controls"
          }
        },
        "7f7f1987c00541b891fe578d46fed5e9": {
          "model_module": "@jupyter-widgets/base",
          "model_name": "LayoutModel",
          "model_module_version": "1.2.0",
          "state": {
            "_view_name": "LayoutView",
            "grid_template_rows": null,
            "right": null,
            "justify_content": null,
            "_view_module": "@jupyter-widgets/base",
            "overflow": null,
            "_model_module_version": "1.2.0",
            "_view_count": null,
            "flex_flow": null,
            "width": null,
            "min_width": null,
            "border": null,
            "align_items": null,
            "bottom": null,
            "_model_module": "@jupyter-widgets/base",
            "top": null,
            "grid_column": null,
            "overflow_y": null,
            "overflow_x": null,
            "grid_auto_flow": null,
            "grid_area": null,
            "grid_template_columns": null,
            "flex": null,
            "_model_name": "LayoutModel",
            "justify_items": null,
            "grid_row": null,
            "max_height": null,
            "align_content": null,
            "visibility": null,
            "align_self": null,
            "height": null,
            "min_height": null,
            "padding": null,
            "grid_auto_rows": null,
            "grid_gap": null,
            "max_width": null,
            "order": null,
            "_view_module_version": "1.2.0",
            "grid_template_areas": null,
            "object_position": null,
            "object_fit": null,
            "grid_auto_columns": null,
            "margin": null,
            "display": null,
            "left": null
          }
        },
        "32367e3a2dda48a2ac52ba3dabdbbf7f": {
          "model_module": "@jupyter-widgets/controls",
          "model_name": "ProgressStyleModel",
          "model_module_version": "1.5.0",
          "state": {
            "_view_name": "StyleView",
            "_model_name": "ProgressStyleModel",
            "description_width": "",
            "_view_module": "@jupyter-widgets/base",
            "_model_module_version": "1.5.0",
            "_view_count": null,
            "_view_module_version": "1.2.0",
            "bar_color": null,
            "_model_module": "@jupyter-widgets/controls"
          }
        },
        "69365b25f81f4e6496cef482e76efc71": {
          "model_module": "@jupyter-widgets/base",
          "model_name": "LayoutModel",
          "model_module_version": "1.2.0",
          "state": {
            "_view_name": "LayoutView",
            "grid_template_rows": null,
            "right": null,
            "justify_content": null,
            "_view_module": "@jupyter-widgets/base",
            "overflow": null,
            "_model_module_version": "1.2.0",
            "_view_count": null,
            "flex_flow": null,
            "width": "20px",
            "min_width": null,
            "border": null,
            "align_items": null,
            "bottom": null,
            "_model_module": "@jupyter-widgets/base",
            "top": null,
            "grid_column": null,
            "overflow_y": null,
            "overflow_x": null,
            "grid_auto_flow": null,
            "grid_area": null,
            "grid_template_columns": null,
            "flex": null,
            "_model_name": "LayoutModel",
            "justify_items": null,
            "grid_row": null,
            "max_height": null,
            "align_content": null,
            "visibility": null,
            "align_self": null,
            "height": null,
            "min_height": null,
            "padding": null,
            "grid_auto_rows": null,
            "grid_gap": null,
            "max_width": null,
            "order": null,
            "_view_module_version": "1.2.0",
            "grid_template_areas": null,
            "object_position": null,
            "object_fit": null,
            "grid_auto_columns": null,
            "margin": null,
            "display": null,
            "left": null
          }
        },
        "0bc1993ea19e45e495a70de1f8029160": {
          "model_module": "@jupyter-widgets/controls",
          "model_name": "DescriptionStyleModel",
          "model_module_version": "1.5.0",
          "state": {
            "_view_name": "StyleView",
            "_model_name": "DescriptionStyleModel",
            "description_width": "",
            "_view_module": "@jupyter-widgets/base",
            "_model_module_version": "1.5.0",
            "_view_count": null,
            "_view_module_version": "1.2.0",
            "_model_module": "@jupyter-widgets/controls"
          }
        },
        "010ffbd0a8f84842b721f8085f167cc1": {
          "model_module": "@jupyter-widgets/base",
          "model_name": "LayoutModel",
          "model_module_version": "1.2.0",
          "state": {
            "_view_name": "LayoutView",
            "grid_template_rows": null,
            "right": null,
            "justify_content": null,
            "_view_module": "@jupyter-widgets/base",
            "overflow": null,
            "_model_module_version": "1.2.0",
            "_view_count": null,
            "flex_flow": null,
            "width": null,
            "min_width": null,
            "border": null,
            "align_items": null,
            "bottom": null,
            "_model_module": "@jupyter-widgets/base",
            "top": null,
            "grid_column": null,
            "overflow_y": null,
            "overflow_x": null,
            "grid_auto_flow": null,
            "grid_area": null,
            "grid_template_columns": null,
            "flex": null,
            "_model_name": "LayoutModel",
            "justify_items": null,
            "grid_row": null,
            "max_height": null,
            "align_content": null,
            "visibility": null,
            "align_self": null,
            "height": null,
            "min_height": null,
            "padding": null,
            "grid_auto_rows": null,
            "grid_gap": null,
            "max_width": null,
            "order": null,
            "_view_module_version": "1.2.0",
            "grid_template_areas": null,
            "object_position": null,
            "object_fit": null,
            "grid_auto_columns": null,
            "margin": null,
            "display": null,
            "left": null
          }
        },
        "f0394959e7d74850a917e545123d47a2": {
          "model_module": "@jupyter-widgets/controls",
          "model_name": "HBoxModel",
          "model_module_version": "1.5.0",
          "state": {
            "_view_name": "HBoxView",
            "_dom_classes": [],
            "_model_name": "HBoxModel",
            "_view_module": "@jupyter-widgets/controls",
            "_model_module_version": "1.5.0",
            "_view_count": null,
            "_view_module_version": "1.5.0",
            "box_style": "",
            "layout": "IPY_MODEL_c6e019e111a448d4830b0612d15b384c",
            "_model_module": "@jupyter-widgets/controls",
            "children": [
              "IPY_MODEL_401d30a2a7504333b16d66b24b7b2100",
              "IPY_MODEL_2dfc135ae3bd4c82ab899284c6c49d02",
              "IPY_MODEL_cd58353ff29349d8b188aff116afc925"
            ]
          }
        },
        "c6e019e111a448d4830b0612d15b384c": {
          "model_module": "@jupyter-widgets/base",
          "model_name": "LayoutModel",
          "model_module_version": "1.2.0",
          "state": {
            "_view_name": "LayoutView",
            "grid_template_rows": null,
            "right": null,
            "justify_content": null,
            "_view_module": "@jupyter-widgets/base",
            "overflow": null,
            "_model_module_version": "1.2.0",
            "_view_count": null,
            "flex_flow": null,
            "width": null,
            "min_width": null,
            "border": null,
            "align_items": null,
            "bottom": null,
            "_model_module": "@jupyter-widgets/base",
            "top": null,
            "grid_column": null,
            "overflow_y": null,
            "overflow_x": null,
            "grid_auto_flow": null,
            "grid_area": null,
            "grid_template_columns": null,
            "flex": null,
            "_model_name": "LayoutModel",
            "justify_items": null,
            "grid_row": null,
            "max_height": null,
            "align_content": null,
            "visibility": null,
            "align_self": null,
            "height": null,
            "min_height": null,
            "padding": null,
            "grid_auto_rows": null,
            "grid_gap": null,
            "max_width": null,
            "order": null,
            "_view_module_version": "1.2.0",
            "grid_template_areas": null,
            "object_position": null,
            "object_fit": null,
            "grid_auto_columns": null,
            "margin": null,
            "display": null,
            "left": null
          }
        },
        "401d30a2a7504333b16d66b24b7b2100": {
          "model_module": "@jupyter-widgets/controls",
          "model_name": "HTMLModel",
          "model_module_version": "1.5.0",
          "state": {
            "_view_name": "HTMLView",
            "style": "IPY_MODEL_2b7e172993f7493f994215c91cb6be3c",
            "_dom_classes": [],
            "description": "",
            "_model_name": "HTMLModel",
            "placeholder": "​",
            "_view_module": "@jupyter-widgets/controls",
            "_model_module_version": "1.5.0",
            "value": "Dl Size...: 100%",
            "_view_count": null,
            "_view_module_version": "1.5.0",
            "description_tooltip": null,
            "_model_module": "@jupyter-widgets/controls",
            "layout": "IPY_MODEL_9092543b010045988e05dac4f9714ef2"
          }
        },
        "2dfc135ae3bd4c82ab899284c6c49d02": {
          "model_module": "@jupyter-widgets/controls",
          "model_name": "FloatProgressModel",
          "model_module_version": "1.5.0",
          "state": {
            "_view_name": "ProgressView",
            "style": "IPY_MODEL_5af88eacb1524bdaa53211de7a71de1d",
            "_dom_classes": [],
            "description": "",
            "_model_name": "FloatProgressModel",
            "bar_style": "success",
            "max": 1,
            "_view_module": "@jupyter-widgets/controls",
            "_model_module_version": "1.5.0",
            "value": 1,
            "_view_count": null,
            "_view_module_version": "1.5.0",
            "orientation": "horizontal",
            "min": 0,
            "description_tooltip": null,
            "_model_module": "@jupyter-widgets/controls",
            "layout": "IPY_MODEL_8a23ce46d0f64685879cf6cc04e6f8ad"
          }
        },
        "cd58353ff29349d8b188aff116afc925": {
          "model_module": "@jupyter-widgets/controls",
          "model_name": "HTMLModel",
          "model_module_version": "1.5.0",
          "state": {
            "_view_name": "HTMLView",
            "style": "IPY_MODEL_a5a7dc103085496ead02b53306f65296",
            "_dom_classes": [],
            "description": "",
            "_model_name": "HTMLModel",
            "placeholder": "​",
            "_view_module": "@jupyter-widgets/controls",
            "_model_module_version": "1.5.0",
            "value": " 2423/2423 [00:24&lt;00:00, 100.82 MiB/s]",
            "_view_count": null,
            "_view_module_version": "1.5.0",
            "description_tooltip": null,
            "_model_module": "@jupyter-widgets/controls",
            "layout": "IPY_MODEL_61039883421a4dbfa85e27938c689016"
          }
        },
        "2b7e172993f7493f994215c91cb6be3c": {
          "model_module": "@jupyter-widgets/controls",
          "model_name": "DescriptionStyleModel",
          "model_module_version": "1.5.0",
          "state": {
            "_view_name": "StyleView",
            "_model_name": "DescriptionStyleModel",
            "description_width": "",
            "_view_module": "@jupyter-widgets/base",
            "_model_module_version": "1.5.0",
            "_view_count": null,
            "_view_module_version": "1.2.0",
            "_model_module": "@jupyter-widgets/controls"
          }
        },
        "9092543b010045988e05dac4f9714ef2": {
          "model_module": "@jupyter-widgets/base",
          "model_name": "LayoutModel",
          "model_module_version": "1.2.0",
          "state": {
            "_view_name": "LayoutView",
            "grid_template_rows": null,
            "right": null,
            "justify_content": null,
            "_view_module": "@jupyter-widgets/base",
            "overflow": null,
            "_model_module_version": "1.2.0",
            "_view_count": null,
            "flex_flow": null,
            "width": null,
            "min_width": null,
            "border": null,
            "align_items": null,
            "bottom": null,
            "_model_module": "@jupyter-widgets/base",
            "top": null,
            "grid_column": null,
            "overflow_y": null,
            "overflow_x": null,
            "grid_auto_flow": null,
            "grid_area": null,
            "grid_template_columns": null,
            "flex": null,
            "_model_name": "LayoutModel",
            "justify_items": null,
            "grid_row": null,
            "max_height": null,
            "align_content": null,
            "visibility": null,
            "align_self": null,
            "height": null,
            "min_height": null,
            "padding": null,
            "grid_auto_rows": null,
            "grid_gap": null,
            "max_width": null,
            "order": null,
            "_view_module_version": "1.2.0",
            "grid_template_areas": null,
            "object_position": null,
            "object_fit": null,
            "grid_auto_columns": null,
            "margin": null,
            "display": null,
            "left": null
          }
        },
        "5af88eacb1524bdaa53211de7a71de1d": {
          "model_module": "@jupyter-widgets/controls",
          "model_name": "ProgressStyleModel",
          "model_module_version": "1.5.0",
          "state": {
            "_view_name": "StyleView",
            "_model_name": "ProgressStyleModel",
            "description_width": "",
            "_view_module": "@jupyter-widgets/base",
            "_model_module_version": "1.5.0",
            "_view_count": null,
            "_view_module_version": "1.2.0",
            "bar_color": null,
            "_model_module": "@jupyter-widgets/controls"
          }
        },
        "8a23ce46d0f64685879cf6cc04e6f8ad": {
          "model_module": "@jupyter-widgets/base",
          "model_name": "LayoutModel",
          "model_module_version": "1.2.0",
          "state": {
            "_view_name": "LayoutView",
            "grid_template_rows": null,
            "right": null,
            "justify_content": null,
            "_view_module": "@jupyter-widgets/base",
            "overflow": null,
            "_model_module_version": "1.2.0",
            "_view_count": null,
            "flex_flow": null,
            "width": "20px",
            "min_width": null,
            "border": null,
            "align_items": null,
            "bottom": null,
            "_model_module": "@jupyter-widgets/base",
            "top": null,
            "grid_column": null,
            "overflow_y": null,
            "overflow_x": null,
            "grid_auto_flow": null,
            "grid_area": null,
            "grid_template_columns": null,
            "flex": null,
            "_model_name": "LayoutModel",
            "justify_items": null,
            "grid_row": null,
            "max_height": null,
            "align_content": null,
            "visibility": null,
            "align_self": null,
            "height": null,
            "min_height": null,
            "padding": null,
            "grid_auto_rows": null,
            "grid_gap": null,
            "max_width": null,
            "order": null,
            "_view_module_version": "1.2.0",
            "grid_template_areas": null,
            "object_position": null,
            "object_fit": null,
            "grid_auto_columns": null,
            "margin": null,
            "display": null,
            "left": null
          }
        },
        "a5a7dc103085496ead02b53306f65296": {
          "model_module": "@jupyter-widgets/controls",
          "model_name": "DescriptionStyleModel",
          "model_module_version": "1.5.0",
          "state": {
            "_view_name": "StyleView",
            "_model_name": "DescriptionStyleModel",
            "description_width": "",
            "_view_module": "@jupyter-widgets/base",
            "_model_module_version": "1.5.0",
            "_view_count": null,
            "_view_module_version": "1.2.0",
            "_model_module": "@jupyter-widgets/controls"
          }
        },
        "61039883421a4dbfa85e27938c689016": {
          "model_module": "@jupyter-widgets/base",
          "model_name": "LayoutModel",
          "model_module_version": "1.2.0",
          "state": {
            "_view_name": "LayoutView",
            "grid_template_rows": null,
            "right": null,
            "justify_content": null,
            "_view_module": "@jupyter-widgets/base",
            "overflow": null,
            "_model_module_version": "1.2.0",
            "_view_count": null,
            "flex_flow": null,
            "width": null,
            "min_width": null,
            "border": null,
            "align_items": null,
            "bottom": null,
            "_model_module": "@jupyter-widgets/base",
            "top": null,
            "grid_column": null,
            "overflow_y": null,
            "overflow_x": null,
            "grid_auto_flow": null,
            "grid_area": null,
            "grid_template_columns": null,
            "flex": null,
            "_model_name": "LayoutModel",
            "justify_items": null,
            "grid_row": null,
            "max_height": null,
            "align_content": null,
            "visibility": null,
            "align_self": null,
            "height": null,
            "min_height": null,
            "padding": null,
            "grid_auto_rows": null,
            "grid_gap": null,
            "max_width": null,
            "order": null,
            "_view_module_version": "1.2.0",
            "grid_template_areas": null,
            "object_position": null,
            "object_fit": null,
            "grid_auto_columns": null,
            "margin": null,
            "display": null,
            "left": null
          }
        },
        "a2c8f00905814375a62bfd5c821e3ea8": {
          "model_module": "@jupyter-widgets/controls",
          "model_name": "HBoxModel",
          "model_module_version": "1.5.0",
          "state": {
            "_view_name": "HBoxView",
            "_dom_classes": [],
            "_model_name": "HBoxModel",
            "_view_module": "@jupyter-widgets/controls",
            "_model_module_version": "1.5.0",
            "_view_count": null,
            "_view_module_version": "1.5.0",
            "box_style": "",
            "layout": "IPY_MODEL_e2d71c78a2bc40a586eed9251dbede53",
            "_model_module": "@jupyter-widgets/controls",
            "children": [
              "IPY_MODEL_4227ea8501964851acf9962d8dde5a28",
              "IPY_MODEL_c28e8b6c99a446d29f5d26f0324308c0",
              "IPY_MODEL_1c46bdc6cf934a7ca300de51dc8c2091"
            ]
          }
        },
        "e2d71c78a2bc40a586eed9251dbede53": {
          "model_module": "@jupyter-widgets/base",
          "model_name": "LayoutModel",
          "model_module_version": "1.2.0",
          "state": {
            "_view_name": "LayoutView",
            "grid_template_rows": null,
            "right": null,
            "justify_content": null,
            "_view_module": "@jupyter-widgets/base",
            "overflow": null,
            "_model_module_version": "1.2.0",
            "_view_count": null,
            "flex_flow": null,
            "width": null,
            "min_width": null,
            "border": null,
            "align_items": null,
            "bottom": null,
            "_model_module": "@jupyter-widgets/base",
            "top": null,
            "grid_column": null,
            "overflow_y": null,
            "overflow_x": null,
            "grid_auto_flow": null,
            "grid_area": null,
            "grid_template_columns": null,
            "flex": null,
            "_model_name": "LayoutModel",
            "justify_items": null,
            "grid_row": null,
            "max_height": null,
            "align_content": null,
            "visibility": null,
            "align_self": null,
            "height": null,
            "min_height": null,
            "padding": null,
            "grid_auto_rows": null,
            "grid_gap": null,
            "max_width": null,
            "order": null,
            "_view_module_version": "1.2.0",
            "grid_template_areas": null,
            "object_position": null,
            "object_fit": null,
            "grid_auto_columns": null,
            "margin": null,
            "display": null,
            "left": null
          }
        },
        "4227ea8501964851acf9962d8dde5a28": {
          "model_module": "@jupyter-widgets/controls",
          "model_name": "HTMLModel",
          "model_module_version": "1.5.0",
          "state": {
            "_view_name": "HTMLView",
            "style": "IPY_MODEL_71d106e00c784b8584b77ca8875d0e21",
            "_dom_classes": [],
            "description": "",
            "_model_name": "HTMLModel",
            "placeholder": "​",
            "_view_module": "@jupyter-widgets/controls",
            "_model_module_version": "1.5.0",
            "value": "",
            "_view_count": null,
            "_view_module_version": "1.5.0",
            "description_tooltip": null,
            "_model_module": "@jupyter-widgets/controls",
            "layout": "IPY_MODEL_9e88669446374c5fb840ea57d41772c7"
          }
        },
        "c28e8b6c99a446d29f5d26f0324308c0": {
          "model_module": "@jupyter-widgets/controls",
          "model_name": "FloatProgressModel",
          "model_module_version": "1.5.0",
          "state": {
            "_view_name": "ProgressView",
            "style": "IPY_MODEL_6f0917bc9c824d04ba841435df5e9f00",
            "_dom_classes": [],
            "description": "",
            "_model_name": "FloatProgressModel",
            "bar_style": "info",
            "max": 1,
            "_view_module": "@jupyter-widgets/controls",
            "_model_module_version": "1.5.0",
            "value": 1,
            "_view_count": null,
            "_view_module_version": "1.5.0",
            "orientation": "horizontal",
            "min": 0,
            "description_tooltip": null,
            "_model_module": "@jupyter-widgets/controls",
            "layout": "IPY_MODEL_510dcbad214c452ebe5e9d5c09fb2aca"
          }
        },
        "1c46bdc6cf934a7ca300de51dc8c2091": {
          "model_module": "@jupyter-widgets/controls",
          "model_name": "HTMLModel",
          "model_module_version": "1.5.0",
          "state": {
            "_view_name": "HTMLView",
            "style": "IPY_MODEL_a5dea3b83d274d62a817fc71095a8445",
            "_dom_classes": [],
            "description": "",
            "_model_name": "HTMLModel",
            "placeholder": "​",
            "_view_module": "@jupyter-widgets/controls",
            "_model_module_version": "1.5.0",
            "value": " 85495/0 [08:30&lt;00:00, 171.21 examples/s]",
            "_view_count": null,
            "_view_module_version": "1.5.0",
            "description_tooltip": null,
            "_model_module": "@jupyter-widgets/controls",
            "layout": "IPY_MODEL_0b84c4cbc1b342af933e3933ee8adff2"
          }
        },
        "71d106e00c784b8584b77ca8875d0e21": {
          "model_module": "@jupyter-widgets/controls",
          "model_name": "DescriptionStyleModel",
          "model_module_version": "1.5.0",
          "state": {
            "_view_name": "StyleView",
            "_model_name": "DescriptionStyleModel",
            "description_width": "",
            "_view_module": "@jupyter-widgets/base",
            "_model_module_version": "1.5.0",
            "_view_count": null,
            "_view_module_version": "1.2.0",
            "_model_module": "@jupyter-widgets/controls"
          }
        },
        "9e88669446374c5fb840ea57d41772c7": {
          "model_module": "@jupyter-widgets/base",
          "model_name": "LayoutModel",
          "model_module_version": "1.2.0",
          "state": {
            "_view_name": "LayoutView",
            "grid_template_rows": null,
            "right": null,
            "justify_content": null,
            "_view_module": "@jupyter-widgets/base",
            "overflow": null,
            "_model_module_version": "1.2.0",
            "_view_count": null,
            "flex_flow": null,
            "width": null,
            "min_width": null,
            "border": null,
            "align_items": null,
            "bottom": null,
            "_model_module": "@jupyter-widgets/base",
            "top": null,
            "grid_column": null,
            "overflow_y": null,
            "overflow_x": null,
            "grid_auto_flow": null,
            "grid_area": null,
            "grid_template_columns": null,
            "flex": null,
            "_model_name": "LayoutModel",
            "justify_items": null,
            "grid_row": null,
            "max_height": null,
            "align_content": null,
            "visibility": null,
            "align_self": null,
            "height": null,
            "min_height": null,
            "padding": null,
            "grid_auto_rows": null,
            "grid_gap": null,
            "max_width": null,
            "order": null,
            "_view_module_version": "1.2.0",
            "grid_template_areas": null,
            "object_position": null,
            "object_fit": null,
            "grid_auto_columns": null,
            "margin": null,
            "display": null,
            "left": null
          }
        },
        "6f0917bc9c824d04ba841435df5e9f00": {
          "model_module": "@jupyter-widgets/controls",
          "model_name": "ProgressStyleModel",
          "model_module_version": "1.5.0",
          "state": {
            "_view_name": "StyleView",
            "_model_name": "ProgressStyleModel",
            "description_width": "",
            "_view_module": "@jupyter-widgets/base",
            "_model_module_version": "1.5.0",
            "_view_count": null,
            "_view_module_version": "1.2.0",
            "bar_color": null,
            "_model_module": "@jupyter-widgets/controls"
          }
        },
        "510dcbad214c452ebe5e9d5c09fb2aca": {
          "model_module": "@jupyter-widgets/base",
          "model_name": "LayoutModel",
          "model_module_version": "1.2.0",
          "state": {
            "_view_name": "LayoutView",
            "grid_template_rows": null,
            "right": null,
            "justify_content": null,
            "_view_module": "@jupyter-widgets/base",
            "overflow": null,
            "_model_module_version": "1.2.0",
            "_view_count": null,
            "flex_flow": null,
            "width": "20px",
            "min_width": null,
            "border": null,
            "align_items": null,
            "bottom": null,
            "_model_module": "@jupyter-widgets/base",
            "top": null,
            "grid_column": null,
            "overflow_y": null,
            "overflow_x": null,
            "grid_auto_flow": null,
            "grid_area": null,
            "grid_template_columns": null,
            "flex": null,
            "_model_name": "LayoutModel",
            "justify_items": null,
            "grid_row": null,
            "max_height": null,
            "align_content": null,
            "visibility": null,
            "align_self": null,
            "height": null,
            "min_height": null,
            "padding": null,
            "grid_auto_rows": null,
            "grid_gap": null,
            "max_width": null,
            "order": null,
            "_view_module_version": "1.2.0",
            "grid_template_areas": null,
            "object_position": null,
            "object_fit": null,
            "grid_auto_columns": null,
            "margin": null,
            "display": null,
            "left": null
          }
        },
        "a5dea3b83d274d62a817fc71095a8445": {
          "model_module": "@jupyter-widgets/controls",
          "model_name": "DescriptionStyleModel",
          "model_module_version": "1.5.0",
          "state": {
            "_view_name": "StyleView",
            "_model_name": "DescriptionStyleModel",
            "description_width": "",
            "_view_module": "@jupyter-widgets/base",
            "_model_module_version": "1.5.0",
            "_view_count": null,
            "_view_module_version": "1.2.0",
            "_model_module": "@jupyter-widgets/controls"
          }
        },
        "0b84c4cbc1b342af933e3933ee8adff2": {
          "model_module": "@jupyter-widgets/base",
          "model_name": "LayoutModel",
          "model_module_version": "1.2.0",
          "state": {
            "_view_name": "LayoutView",
            "grid_template_rows": null,
            "right": null,
            "justify_content": null,
            "_view_module": "@jupyter-widgets/base",
            "overflow": null,
            "_model_module_version": "1.2.0",
            "_view_count": null,
            "flex_flow": null,
            "width": null,
            "min_width": null,
            "border": null,
            "align_items": null,
            "bottom": null,
            "_model_module": "@jupyter-widgets/base",
            "top": null,
            "grid_column": null,
            "overflow_y": null,
            "overflow_x": null,
            "grid_auto_flow": null,
            "grid_area": null,
            "grid_template_columns": null,
            "flex": null,
            "_model_name": "LayoutModel",
            "justify_items": null,
            "grid_row": null,
            "max_height": null,
            "align_content": null,
            "visibility": null,
            "align_self": null,
            "height": null,
            "min_height": null,
            "padding": null,
            "grid_auto_rows": null,
            "grid_gap": null,
            "max_width": null,
            "order": null,
            "_view_module_version": "1.2.0",
            "grid_template_areas": null,
            "object_position": null,
            "object_fit": null,
            "grid_auto_columns": null,
            "margin": null,
            "display": null,
            "left": null
          }
        },
        "2c90f83185a045259686031dba6f59d3": {
          "model_module": "@jupyter-widgets/controls",
          "model_name": "HBoxModel",
          "model_module_version": "1.5.0",
          "state": {
            "_view_name": "HBoxView",
            "_dom_classes": [],
            "_model_name": "HBoxModel",
            "_view_module": "@jupyter-widgets/controls",
            "_model_module_version": "1.5.0",
            "_view_count": null,
            "_view_module_version": "1.5.0",
            "box_style": "",
            "layout": "IPY_MODEL_b12bef5f2df94e50b75263ee66cc4923",
            "_model_module": "@jupyter-widgets/controls",
            "children": [
              "IPY_MODEL_43870c8fe0cc4d74981dcbe987903836",
              "IPY_MODEL_79f8e5dedc7d4d0ab17a376688043c1f",
              "IPY_MODEL_f866d47b1e804b4aa2de0a0a2131afc1"
            ]
          }
        },
        "b12bef5f2df94e50b75263ee66cc4923": {
          "model_module": "@jupyter-widgets/base",
          "model_name": "LayoutModel",
          "model_module_version": "1.2.0",
          "state": {
            "_view_name": "LayoutView",
            "grid_template_rows": null,
            "right": null,
            "justify_content": null,
            "_view_module": "@jupyter-widgets/base",
            "overflow": null,
            "_model_module_version": "1.2.0",
            "_view_count": null,
            "flex_flow": null,
            "width": null,
            "min_width": null,
            "border": null,
            "align_items": null,
            "bottom": null,
            "_model_module": "@jupyter-widgets/base",
            "top": null,
            "grid_column": null,
            "overflow_y": null,
            "overflow_x": null,
            "grid_auto_flow": null,
            "grid_area": null,
            "grid_template_columns": null,
            "flex": null,
            "_model_name": "LayoutModel",
            "justify_items": null,
            "grid_row": null,
            "max_height": null,
            "align_content": null,
            "visibility": null,
            "align_self": null,
            "height": null,
            "min_height": null,
            "padding": null,
            "grid_auto_rows": null,
            "grid_gap": null,
            "max_width": null,
            "order": null,
            "_view_module_version": "1.2.0",
            "grid_template_areas": null,
            "object_position": null,
            "object_fit": null,
            "grid_auto_columns": null,
            "margin": null,
            "display": null,
            "left": null
          }
        },
        "43870c8fe0cc4d74981dcbe987903836": {
          "model_module": "@jupyter-widgets/controls",
          "model_name": "HTMLModel",
          "model_module_version": "1.5.0",
          "state": {
            "_view_name": "HTMLView",
            "style": "IPY_MODEL_bb00bccc93694b338de16b3ef167d0ac",
            "_dom_classes": [],
            "description": "",
            "_model_name": "HTMLModel",
            "placeholder": "​",
            "_view_module": "@jupyter-widgets/controls",
            "_model_module_version": "1.5.0",
            "value": "100%",
            "_view_count": null,
            "_view_module_version": "1.5.0",
            "description_tooltip": null,
            "_model_module": "@jupyter-widgets/controls",
            "layout": "IPY_MODEL_91cd89c193054e2b94f4c0af96241c78"
          }
        },
        "79f8e5dedc7d4d0ab17a376688043c1f": {
          "model_module": "@jupyter-widgets/controls",
          "model_name": "FloatProgressModel",
          "model_module_version": "1.5.0",
          "state": {
            "_view_name": "ProgressView",
            "style": "IPY_MODEL_72214b63b3d14e19ac5edd36aa2f4161",
            "_dom_classes": [],
            "description": "",
            "_model_name": "FloatProgressModel",
            "bar_style": "danger",
            "max": 85511,
            "_view_module": "@jupyter-widgets/controls",
            "_model_module_version": "1.5.0",
            "value": 85510,
            "_view_count": null,
            "_view_module_version": "1.5.0",
            "orientation": "horizontal",
            "min": 0,
            "description_tooltip": null,
            "_model_module": "@jupyter-widgets/controls",
            "layout": "IPY_MODEL_67ed7ce1afd4443fbe0258b9f0db8126"
          }
        },
        "f866d47b1e804b4aa2de0a0a2131afc1": {
          "model_module": "@jupyter-widgets/controls",
          "model_name": "HTMLModel",
          "model_module_version": "1.5.0",
          "state": {
            "_view_name": "HTMLView",
            "style": "IPY_MODEL_111cd0176bb34ebaaa46eae0a5fe3956",
            "_dom_classes": [],
            "description": "",
            "_model_name": "HTMLModel",
            "placeholder": "​",
            "_view_module": "@jupyter-widgets/controls",
            "_model_module_version": "1.5.0",
            "value": " 85510/85511 [00:49&lt;00:00, 1129.33 examples/s]",
            "_view_count": null,
            "_view_module_version": "1.5.0",
            "description_tooltip": null,
            "_model_module": "@jupyter-widgets/controls",
            "layout": "IPY_MODEL_2b42f73a15be4ac39ab113d746b0740b"
          }
        },
        "bb00bccc93694b338de16b3ef167d0ac": {
          "model_module": "@jupyter-widgets/controls",
          "model_name": "DescriptionStyleModel",
          "model_module_version": "1.5.0",
          "state": {
            "_view_name": "StyleView",
            "_model_name": "DescriptionStyleModel",
            "description_width": "",
            "_view_module": "@jupyter-widgets/base",
            "_model_module_version": "1.5.0",
            "_view_count": null,
            "_view_module_version": "1.2.0",
            "_model_module": "@jupyter-widgets/controls"
          }
        },
        "91cd89c193054e2b94f4c0af96241c78": {
          "model_module": "@jupyter-widgets/base",
          "model_name": "LayoutModel",
          "model_module_version": "1.2.0",
          "state": {
            "_view_name": "LayoutView",
            "grid_template_rows": null,
            "right": null,
            "justify_content": null,
            "_view_module": "@jupyter-widgets/base",
            "overflow": null,
            "_model_module_version": "1.2.0",
            "_view_count": null,
            "flex_flow": null,
            "width": null,
            "min_width": null,
            "border": null,
            "align_items": null,
            "bottom": null,
            "_model_module": "@jupyter-widgets/base",
            "top": null,
            "grid_column": null,
            "overflow_y": null,
            "overflow_x": null,
            "grid_auto_flow": null,
            "grid_area": null,
            "grid_template_columns": null,
            "flex": null,
            "_model_name": "LayoutModel",
            "justify_items": null,
            "grid_row": null,
            "max_height": null,
            "align_content": null,
            "visibility": null,
            "align_self": null,
            "height": null,
            "min_height": null,
            "padding": null,
            "grid_auto_rows": null,
            "grid_gap": null,
            "max_width": null,
            "order": null,
            "_view_module_version": "1.2.0",
            "grid_template_areas": null,
            "object_position": null,
            "object_fit": null,
            "grid_auto_columns": null,
            "margin": null,
            "display": null,
            "left": null
          }
        },
        "72214b63b3d14e19ac5edd36aa2f4161": {
          "model_module": "@jupyter-widgets/controls",
          "model_name": "ProgressStyleModel",
          "model_module_version": "1.5.0",
          "state": {
            "_view_name": "StyleView",
            "_model_name": "ProgressStyleModel",
            "description_width": "",
            "_view_module": "@jupyter-widgets/base",
            "_model_module_version": "1.5.0",
            "_view_count": null,
            "_view_module_version": "1.2.0",
            "bar_color": null,
            "_model_module": "@jupyter-widgets/controls"
          }
        },
        "67ed7ce1afd4443fbe0258b9f0db8126": {
          "model_module": "@jupyter-widgets/base",
          "model_name": "LayoutModel",
          "model_module_version": "1.2.0",
          "state": {
            "_view_name": "LayoutView",
            "grid_template_rows": null,
            "right": null,
            "justify_content": null,
            "_view_module": "@jupyter-widgets/base",
            "overflow": null,
            "_model_module_version": "1.2.0",
            "_view_count": null,
            "flex_flow": null,
            "width": null,
            "min_width": null,
            "border": null,
            "align_items": null,
            "bottom": null,
            "_model_module": "@jupyter-widgets/base",
            "top": null,
            "grid_column": null,
            "overflow_y": null,
            "overflow_x": null,
            "grid_auto_flow": null,
            "grid_area": null,
            "grid_template_columns": null,
            "flex": null,
            "_model_name": "LayoutModel",
            "justify_items": null,
            "grid_row": null,
            "max_height": null,
            "align_content": null,
            "visibility": null,
            "align_self": null,
            "height": null,
            "min_height": null,
            "padding": null,
            "grid_auto_rows": null,
            "grid_gap": null,
            "max_width": null,
            "order": null,
            "_view_module_version": "1.2.0",
            "grid_template_areas": null,
            "object_position": null,
            "object_fit": null,
            "grid_auto_columns": null,
            "margin": null,
            "display": null,
            "left": null
          }
        },
        "111cd0176bb34ebaaa46eae0a5fe3956": {
          "model_module": "@jupyter-widgets/controls",
          "model_name": "DescriptionStyleModel",
          "model_module_version": "1.5.0",
          "state": {
            "_view_name": "StyleView",
            "_model_name": "DescriptionStyleModel",
            "description_width": "",
            "_view_module": "@jupyter-widgets/base",
            "_model_module_version": "1.5.0",
            "_view_count": null,
            "_view_module_version": "1.2.0",
            "_model_module": "@jupyter-widgets/controls"
          }
        },
        "2b42f73a15be4ac39ab113d746b0740b": {
          "model_module": "@jupyter-widgets/base",
          "model_name": "LayoutModel",
          "model_module_version": "1.2.0",
          "state": {
            "_view_name": "LayoutView",
            "grid_template_rows": null,
            "right": null,
            "justify_content": null,
            "_view_module": "@jupyter-widgets/base",
            "overflow": null,
            "_model_module_version": "1.2.0",
            "_view_count": null,
            "flex_flow": null,
            "width": null,
            "min_width": null,
            "border": null,
            "align_items": null,
            "bottom": null,
            "_model_module": "@jupyter-widgets/base",
            "top": null,
            "grid_column": null,
            "overflow_y": null,
            "overflow_x": null,
            "grid_auto_flow": null,
            "grid_area": null,
            "grid_template_columns": null,
            "flex": null,
            "_model_name": "LayoutModel",
            "justify_items": null,
            "grid_row": null,
            "max_height": null,
            "align_content": null,
            "visibility": null,
            "align_self": null,
            "height": null,
            "min_height": null,
            "padding": null,
            "grid_auto_rows": null,
            "grid_gap": null,
            "max_width": null,
            "order": null,
            "_view_module_version": "1.2.0",
            "grid_template_areas": null,
            "object_position": null,
            "object_fit": null,
            "grid_auto_columns": null,
            "margin": null,
            "display": null,
            "left": null
          }
        },
        "0ff9ec16a18f49da85dc592a87ed6ad9": {
          "model_module": "@jupyter-widgets/controls",
          "model_name": "HBoxModel",
          "model_module_version": "1.5.0",
          "state": {
            "_view_name": "HBoxView",
            "_dom_classes": [],
            "_model_name": "HBoxModel",
            "_view_module": "@jupyter-widgets/controls",
            "_model_module_version": "1.5.0",
            "_view_count": null,
            "_view_module_version": "1.5.0",
            "box_style": "",
            "layout": "IPY_MODEL_c12e77a15f9b4407a04f99deb0280302",
            "_model_module": "@jupyter-widgets/controls",
            "children": [
              "IPY_MODEL_2d786f33569a43c69cc511f32e049b2a",
              "IPY_MODEL_e36816e49c2443fdb017e04004107cb9",
              "IPY_MODEL_416de8c39fb34301874613cc60ced083"
            ]
          }
        },
        "c12e77a15f9b4407a04f99deb0280302": {
          "model_module": "@jupyter-widgets/base",
          "model_name": "LayoutModel",
          "model_module_version": "1.2.0",
          "state": {
            "_view_name": "LayoutView",
            "grid_template_rows": null,
            "right": null,
            "justify_content": null,
            "_view_module": "@jupyter-widgets/base",
            "overflow": null,
            "_model_module_version": "1.2.0",
            "_view_count": null,
            "flex_flow": null,
            "width": null,
            "min_width": null,
            "border": null,
            "align_items": null,
            "bottom": null,
            "_model_module": "@jupyter-widgets/base",
            "top": null,
            "grid_column": null,
            "overflow_y": null,
            "overflow_x": null,
            "grid_auto_flow": null,
            "grid_area": null,
            "grid_template_columns": null,
            "flex": null,
            "_model_name": "LayoutModel",
            "justify_items": null,
            "grid_row": null,
            "max_height": null,
            "align_content": null,
            "visibility": null,
            "align_self": null,
            "height": null,
            "min_height": null,
            "padding": null,
            "grid_auto_rows": null,
            "grid_gap": null,
            "max_width": null,
            "order": null,
            "_view_module_version": "1.2.0",
            "grid_template_areas": null,
            "object_position": null,
            "object_fit": null,
            "grid_auto_columns": null,
            "margin": null,
            "display": null,
            "left": null
          }
        },
        "2d786f33569a43c69cc511f32e049b2a": {
          "model_module": "@jupyter-widgets/controls",
          "model_name": "HTMLModel",
          "model_module_version": "1.5.0",
          "state": {
            "_view_name": "HTMLView",
            "style": "IPY_MODEL_7f817b9b6e5143c591873544323ec05f",
            "_dom_classes": [],
            "description": "",
            "_model_name": "HTMLModel",
            "placeholder": "​",
            "_view_module": "@jupyter-widgets/controls",
            "_model_module_version": "1.5.0",
            "value": "",
            "_view_count": null,
            "_view_module_version": "1.5.0",
            "description_tooltip": null,
            "_model_module": "@jupyter-widgets/controls",
            "layout": "IPY_MODEL_4208063d9f99423bb3aff54390371d6d"
          }
        },
        "e36816e49c2443fdb017e04004107cb9": {
          "model_module": "@jupyter-widgets/controls",
          "model_name": "FloatProgressModel",
          "model_module_version": "1.5.0",
          "state": {
            "_view_name": "ProgressView",
            "style": "IPY_MODEL_56cf605ba4e148f0b66938f50840bd3e",
            "_dom_classes": [],
            "description": "",
            "_model_name": "FloatProgressModel",
            "bar_style": "info",
            "max": 1,
            "_view_module": "@jupyter-widgets/controls",
            "_model_module_version": "1.5.0",
            "value": 1,
            "_view_count": null,
            "_view_module_version": "1.5.0",
            "orientation": "horizontal",
            "min": 0,
            "description_tooltip": null,
            "_model_module": "@jupyter-widgets/controls",
            "layout": "IPY_MODEL_4560b3070ab94fe69348f520c70d0c77"
          }
        },
        "416de8c39fb34301874613cc60ced083": {
          "model_module": "@jupyter-widgets/controls",
          "model_name": "HTMLModel",
          "model_module_version": "1.5.0",
          "state": {
            "_view_name": "HTMLView",
            "style": "IPY_MODEL_4a15ebce61524bf5ae8d37bf1a71046d",
            "_dom_classes": [],
            "description": "",
            "_model_name": "HTMLModel",
            "placeholder": "​",
            "_view_module": "@jupyter-widgets/controls",
            "_model_module_version": "1.5.0",
            "value": " 10101/0 [01:57&lt;00:00, 80.75 examples/s]",
            "_view_count": null,
            "_view_module_version": "1.5.0",
            "description_tooltip": null,
            "_model_module": "@jupyter-widgets/controls",
            "layout": "IPY_MODEL_df637b4e4321456b9cf7a2967d715f02"
          }
        },
        "7f817b9b6e5143c591873544323ec05f": {
          "model_module": "@jupyter-widgets/controls",
          "model_name": "DescriptionStyleModel",
          "model_module_version": "1.5.0",
          "state": {
            "_view_name": "StyleView",
            "_model_name": "DescriptionStyleModel",
            "description_width": "",
            "_view_module": "@jupyter-widgets/base",
            "_model_module_version": "1.5.0",
            "_view_count": null,
            "_view_module_version": "1.2.0",
            "_model_module": "@jupyter-widgets/controls"
          }
        },
        "4208063d9f99423bb3aff54390371d6d": {
          "model_module": "@jupyter-widgets/base",
          "model_name": "LayoutModel",
          "model_module_version": "1.2.0",
          "state": {
            "_view_name": "LayoutView",
            "grid_template_rows": null,
            "right": null,
            "justify_content": null,
            "_view_module": "@jupyter-widgets/base",
            "overflow": null,
            "_model_module_version": "1.2.0",
            "_view_count": null,
            "flex_flow": null,
            "width": null,
            "min_width": null,
            "border": null,
            "align_items": null,
            "bottom": null,
            "_model_module": "@jupyter-widgets/base",
            "top": null,
            "grid_column": null,
            "overflow_y": null,
            "overflow_x": null,
            "grid_auto_flow": null,
            "grid_area": null,
            "grid_template_columns": null,
            "flex": null,
            "_model_name": "LayoutModel",
            "justify_items": null,
            "grid_row": null,
            "max_height": null,
            "align_content": null,
            "visibility": null,
            "align_self": null,
            "height": null,
            "min_height": null,
            "padding": null,
            "grid_auto_rows": null,
            "grid_gap": null,
            "max_width": null,
            "order": null,
            "_view_module_version": "1.2.0",
            "grid_template_areas": null,
            "object_position": null,
            "object_fit": null,
            "grid_auto_columns": null,
            "margin": null,
            "display": null,
            "left": null
          }
        },
        "56cf605ba4e148f0b66938f50840bd3e": {
          "model_module": "@jupyter-widgets/controls",
          "model_name": "ProgressStyleModel",
          "model_module_version": "1.5.0",
          "state": {
            "_view_name": "StyleView",
            "_model_name": "ProgressStyleModel",
            "description_width": "",
            "_view_module": "@jupyter-widgets/base",
            "_model_module_version": "1.5.0",
            "_view_count": null,
            "_view_module_version": "1.2.0",
            "bar_color": null,
            "_model_module": "@jupyter-widgets/controls"
          }
        },
        "4560b3070ab94fe69348f520c70d0c77": {
          "model_module": "@jupyter-widgets/base",
          "model_name": "LayoutModel",
          "model_module_version": "1.2.0",
          "state": {
            "_view_name": "LayoutView",
            "grid_template_rows": null,
            "right": null,
            "justify_content": null,
            "_view_module": "@jupyter-widgets/base",
            "overflow": null,
            "_model_module_version": "1.2.0",
            "_view_count": null,
            "flex_flow": null,
            "width": "20px",
            "min_width": null,
            "border": null,
            "align_items": null,
            "bottom": null,
            "_model_module": "@jupyter-widgets/base",
            "top": null,
            "grid_column": null,
            "overflow_y": null,
            "overflow_x": null,
            "grid_auto_flow": null,
            "grid_area": null,
            "grid_template_columns": null,
            "flex": null,
            "_model_name": "LayoutModel",
            "justify_items": null,
            "grid_row": null,
            "max_height": null,
            "align_content": null,
            "visibility": null,
            "align_self": null,
            "height": null,
            "min_height": null,
            "padding": null,
            "grid_auto_rows": null,
            "grid_gap": null,
            "max_width": null,
            "order": null,
            "_view_module_version": "1.2.0",
            "grid_template_areas": null,
            "object_position": null,
            "object_fit": null,
            "grid_auto_columns": null,
            "margin": null,
            "display": null,
            "left": null
          }
        },
        "4a15ebce61524bf5ae8d37bf1a71046d": {
          "model_module": "@jupyter-widgets/controls",
          "model_name": "DescriptionStyleModel",
          "model_module_version": "1.5.0",
          "state": {
            "_view_name": "StyleView",
            "_model_name": "DescriptionStyleModel",
            "description_width": "",
            "_view_module": "@jupyter-widgets/base",
            "_model_module_version": "1.5.0",
            "_view_count": null,
            "_view_module_version": "1.2.0",
            "_model_module": "@jupyter-widgets/controls"
          }
        },
        "df637b4e4321456b9cf7a2967d715f02": {
          "model_module": "@jupyter-widgets/base",
          "model_name": "LayoutModel",
          "model_module_version": "1.2.0",
          "state": {
            "_view_name": "LayoutView",
            "grid_template_rows": null,
            "right": null,
            "justify_content": null,
            "_view_module": "@jupyter-widgets/base",
            "overflow": null,
            "_model_module_version": "1.2.0",
            "_view_count": null,
            "flex_flow": null,
            "width": null,
            "min_width": null,
            "border": null,
            "align_items": null,
            "bottom": null,
            "_model_module": "@jupyter-widgets/base",
            "top": null,
            "grid_column": null,
            "overflow_y": null,
            "overflow_x": null,
            "grid_auto_flow": null,
            "grid_area": null,
            "grid_template_columns": null,
            "flex": null,
            "_model_name": "LayoutModel",
            "justify_items": null,
            "grid_row": null,
            "max_height": null,
            "align_content": null,
            "visibility": null,
            "align_self": null,
            "height": null,
            "min_height": null,
            "padding": null,
            "grid_auto_rows": null,
            "grid_gap": null,
            "max_width": null,
            "order": null,
            "_view_module_version": "1.2.0",
            "grid_template_areas": null,
            "object_position": null,
            "object_fit": null,
            "grid_auto_columns": null,
            "margin": null,
            "display": null,
            "left": null
          }
        },
        "0f5306a7cea646659f61e05ef562b67d": {
          "model_module": "@jupyter-widgets/controls",
          "model_name": "HBoxModel",
          "model_module_version": "1.5.0",
          "state": {
            "_view_name": "HBoxView",
            "_dom_classes": [],
            "_model_name": "HBoxModel",
            "_view_module": "@jupyter-widgets/controls",
            "_model_module_version": "1.5.0",
            "_view_count": null,
            "_view_module_version": "1.5.0",
            "box_style": "",
            "layout": "IPY_MODEL_29bdc2883ea24de8a958bba1edd3eca7",
            "_model_module": "@jupyter-widgets/controls",
            "children": [
              "IPY_MODEL_036f9359680a4688858407b9da70a22a",
              "IPY_MODEL_ead6247dcda8462cb05658c1b9552b6d",
              "IPY_MODEL_45d079e4111e40bbbf91fd035de4d1b8"
            ]
          }
        },
        "29bdc2883ea24de8a958bba1edd3eca7": {
          "model_module": "@jupyter-widgets/base",
          "model_name": "LayoutModel",
          "model_module_version": "1.2.0",
          "state": {
            "_view_name": "LayoutView",
            "grid_template_rows": null,
            "right": null,
            "justify_content": null,
            "_view_module": "@jupyter-widgets/base",
            "overflow": null,
            "_model_module_version": "1.2.0",
            "_view_count": null,
            "flex_flow": null,
            "width": null,
            "min_width": null,
            "border": null,
            "align_items": null,
            "bottom": null,
            "_model_module": "@jupyter-widgets/base",
            "top": null,
            "grid_column": null,
            "overflow_y": null,
            "overflow_x": null,
            "grid_auto_flow": null,
            "grid_area": null,
            "grid_template_columns": null,
            "flex": null,
            "_model_name": "LayoutModel",
            "justify_items": null,
            "grid_row": null,
            "max_height": null,
            "align_content": null,
            "visibility": null,
            "align_self": null,
            "height": null,
            "min_height": null,
            "padding": null,
            "grid_auto_rows": null,
            "grid_gap": null,
            "max_width": null,
            "order": null,
            "_view_module_version": "1.2.0",
            "grid_template_areas": null,
            "object_position": null,
            "object_fit": null,
            "grid_auto_columns": null,
            "margin": null,
            "display": null,
            "left": null
          }
        },
        "036f9359680a4688858407b9da70a22a": {
          "model_module": "@jupyter-widgets/controls",
          "model_name": "HTMLModel",
          "model_module_version": "1.5.0",
          "state": {
            "_view_name": "HTMLView",
            "style": "IPY_MODEL_5bfc67469f2c4c57b54d3ed1183336c8",
            "_dom_classes": [],
            "description": "",
            "_model_name": "HTMLModel",
            "placeholder": "​",
            "_view_module": "@jupyter-widgets/controls",
            "_model_module_version": "1.5.0",
            "value": "100%",
            "_view_count": null,
            "_view_module_version": "1.5.0",
            "description_tooltip": null,
            "_model_module": "@jupyter-widgets/controls",
            "layout": "IPY_MODEL_e77548f0a2b84c38863482bbff73f231"
          }
        },
        "ead6247dcda8462cb05658c1b9552b6d": {
          "model_module": "@jupyter-widgets/controls",
          "model_name": "FloatProgressModel",
          "model_module_version": "1.5.0",
          "state": {
            "_view_name": "ProgressView",
            "style": "IPY_MODEL_01595b5bc6514943802dc178039d35da",
            "_dom_classes": [],
            "description": "",
            "_model_name": "FloatProgressModel",
            "bar_style": "danger",
            "max": 10102,
            "_view_module": "@jupyter-widgets/controls",
            "_model_module_version": "1.5.0",
            "value": 10101,
            "_view_count": null,
            "_view_module_version": "1.5.0",
            "orientation": "horizontal",
            "min": 0,
            "description_tooltip": null,
            "_model_module": "@jupyter-widgets/controls",
            "layout": "IPY_MODEL_52d01de99f674058b858f2ef9636d948"
          }
        },
        "45d079e4111e40bbbf91fd035de4d1b8": {
          "model_module": "@jupyter-widgets/controls",
          "model_name": "HTMLModel",
          "model_module_version": "1.5.0",
          "state": {
            "_view_name": "HTMLView",
            "style": "IPY_MODEL_afbf44a1532c47f6a2b82c416c7d044a",
            "_dom_classes": [],
            "description": "",
            "_model_name": "HTMLModel",
            "placeholder": "​",
            "_view_module": "@jupyter-widgets/controls",
            "_model_module_version": "1.5.0",
            "value": " 10101/10102 [00:01&lt;00:00, 4966.62 examples/s]",
            "_view_count": null,
            "_view_module_version": "1.5.0",
            "description_tooltip": null,
            "_model_module": "@jupyter-widgets/controls",
            "layout": "IPY_MODEL_4481112de8c84362ba934612c1bbffc6"
          }
        },
        "5bfc67469f2c4c57b54d3ed1183336c8": {
          "model_module": "@jupyter-widgets/controls",
          "model_name": "DescriptionStyleModel",
          "model_module_version": "1.5.0",
          "state": {
            "_view_name": "StyleView",
            "_model_name": "DescriptionStyleModel",
            "description_width": "",
            "_view_module": "@jupyter-widgets/base",
            "_model_module_version": "1.5.0",
            "_view_count": null,
            "_view_module_version": "1.2.0",
            "_model_module": "@jupyter-widgets/controls"
          }
        },
        "e77548f0a2b84c38863482bbff73f231": {
          "model_module": "@jupyter-widgets/base",
          "model_name": "LayoutModel",
          "model_module_version": "1.2.0",
          "state": {
            "_view_name": "LayoutView",
            "grid_template_rows": null,
            "right": null,
            "justify_content": null,
            "_view_module": "@jupyter-widgets/base",
            "overflow": null,
            "_model_module_version": "1.2.0",
            "_view_count": null,
            "flex_flow": null,
            "width": null,
            "min_width": null,
            "border": null,
            "align_items": null,
            "bottom": null,
            "_model_module": "@jupyter-widgets/base",
            "top": null,
            "grid_column": null,
            "overflow_y": null,
            "overflow_x": null,
            "grid_auto_flow": null,
            "grid_area": null,
            "grid_template_columns": null,
            "flex": null,
            "_model_name": "LayoutModel",
            "justify_items": null,
            "grid_row": null,
            "max_height": null,
            "align_content": null,
            "visibility": null,
            "align_self": null,
            "height": null,
            "min_height": null,
            "padding": null,
            "grid_auto_rows": null,
            "grid_gap": null,
            "max_width": null,
            "order": null,
            "_view_module_version": "1.2.0",
            "grid_template_areas": null,
            "object_position": null,
            "object_fit": null,
            "grid_auto_columns": null,
            "margin": null,
            "display": null,
            "left": null
          }
        },
        "01595b5bc6514943802dc178039d35da": {
          "model_module": "@jupyter-widgets/controls",
          "model_name": "ProgressStyleModel",
          "model_module_version": "1.5.0",
          "state": {
            "_view_name": "StyleView",
            "_model_name": "ProgressStyleModel",
            "description_width": "",
            "_view_module": "@jupyter-widgets/base",
            "_model_module_version": "1.5.0",
            "_view_count": null,
            "_view_module_version": "1.2.0",
            "bar_color": null,
            "_model_module": "@jupyter-widgets/controls"
          }
        },
        "52d01de99f674058b858f2ef9636d948": {
          "model_module": "@jupyter-widgets/base",
          "model_name": "LayoutModel",
          "model_module_version": "1.2.0",
          "state": {
            "_view_name": "LayoutView",
            "grid_template_rows": null,
            "right": null,
            "justify_content": null,
            "_view_module": "@jupyter-widgets/base",
            "overflow": null,
            "_model_module_version": "1.2.0",
            "_view_count": null,
            "flex_flow": null,
            "width": null,
            "min_width": null,
            "border": null,
            "align_items": null,
            "bottom": null,
            "_model_module": "@jupyter-widgets/base",
            "top": null,
            "grid_column": null,
            "overflow_y": null,
            "overflow_x": null,
            "grid_auto_flow": null,
            "grid_area": null,
            "grid_template_columns": null,
            "flex": null,
            "_model_name": "LayoutModel",
            "justify_items": null,
            "grid_row": null,
            "max_height": null,
            "align_content": null,
            "visibility": null,
            "align_self": null,
            "height": null,
            "min_height": null,
            "padding": null,
            "grid_auto_rows": null,
            "grid_gap": null,
            "max_width": null,
            "order": null,
            "_view_module_version": "1.2.0",
            "grid_template_areas": null,
            "object_position": null,
            "object_fit": null,
            "grid_auto_columns": null,
            "margin": null,
            "display": null,
            "left": null
          }
        },
        "afbf44a1532c47f6a2b82c416c7d044a": {
          "model_module": "@jupyter-widgets/controls",
          "model_name": "DescriptionStyleModel",
          "model_module_version": "1.5.0",
          "state": {
            "_view_name": "StyleView",
            "_model_name": "DescriptionStyleModel",
            "description_width": "",
            "_view_module": "@jupyter-widgets/base",
            "_model_module_version": "1.5.0",
            "_view_count": null,
            "_view_module_version": "1.2.0",
            "_model_module": "@jupyter-widgets/controls"
          }
        },
        "4481112de8c84362ba934612c1bbffc6": {
          "model_module": "@jupyter-widgets/base",
          "model_name": "LayoutModel",
          "model_module_version": "1.2.0",
          "state": {
            "_view_name": "LayoutView",
            "grid_template_rows": null,
            "right": null,
            "justify_content": null,
            "_view_module": "@jupyter-widgets/base",
            "overflow": null,
            "_model_module_version": "1.2.0",
            "_view_count": null,
            "flex_flow": null,
            "width": null,
            "min_width": null,
            "border": null,
            "align_items": null,
            "bottom": null,
            "_model_module": "@jupyter-widgets/base",
            "top": null,
            "grid_column": null,
            "overflow_y": null,
            "overflow_x": null,
            "grid_auto_flow": null,
            "grid_area": null,
            "grid_template_columns": null,
            "flex": null,
            "_model_name": "LayoutModel",
            "justify_items": null,
            "grid_row": null,
            "max_height": null,
            "align_content": null,
            "visibility": null,
            "align_self": null,
            "height": null,
            "min_height": null,
            "padding": null,
            "grid_auto_rows": null,
            "grid_gap": null,
            "max_width": null,
            "order": null,
            "_view_module_version": "1.2.0",
            "grid_template_areas": null,
            "object_position": null,
            "object_fit": null,
            "grid_auto_columns": null,
            "margin": null,
            "display": null,
            "left": null
          }
        },
        "3730155092e04d9b9eb0174e8a09ff04": {
          "model_module": "@jupyter-widgets/controls",
          "model_name": "HBoxModel",
          "model_module_version": "1.5.0",
          "state": {
            "_view_name": "HBoxView",
            "_dom_classes": [],
            "_model_name": "HBoxModel",
            "_view_module": "@jupyter-widgets/controls",
            "_model_module_version": "1.5.0",
            "_view_count": null,
            "_view_module_version": "1.5.0",
            "box_style": "",
            "layout": "IPY_MODEL_a58750408a48446ea61f976a5636c3e3",
            "_model_module": "@jupyter-widgets/controls",
            "children": [
              "IPY_MODEL_b479e496cac046f9a917d660eb9eed61",
              "IPY_MODEL_4ea99adb717943cfae7caab8e8d28769",
              "IPY_MODEL_1675779d42f54331a6c8f1779b456836"
            ]
          }
        },
        "a58750408a48446ea61f976a5636c3e3": {
          "model_module": "@jupyter-widgets/base",
          "model_name": "LayoutModel",
          "model_module_version": "1.2.0",
          "state": {
            "_view_name": "LayoutView",
            "grid_template_rows": null,
            "right": null,
            "justify_content": null,
            "_view_module": "@jupyter-widgets/base",
            "overflow": null,
            "_model_module_version": "1.2.0",
            "_view_count": null,
            "flex_flow": null,
            "width": null,
            "min_width": null,
            "border": null,
            "align_items": null,
            "bottom": null,
            "_model_module": "@jupyter-widgets/base",
            "top": null,
            "grid_column": null,
            "overflow_y": null,
            "overflow_x": null,
            "grid_auto_flow": null,
            "grid_area": null,
            "grid_template_columns": null,
            "flex": null,
            "_model_name": "LayoutModel",
            "justify_items": null,
            "grid_row": null,
            "max_height": null,
            "align_content": null,
            "visibility": null,
            "align_self": null,
            "height": null,
            "min_height": null,
            "padding": null,
            "grid_auto_rows": null,
            "grid_gap": null,
            "max_width": null,
            "order": null,
            "_view_module_version": "1.2.0",
            "grid_template_areas": null,
            "object_position": null,
            "object_fit": null,
            "grid_auto_columns": null,
            "margin": null,
            "display": null,
            "left": null
          }
        },
        "b479e496cac046f9a917d660eb9eed61": {
          "model_module": "@jupyter-widgets/controls",
          "model_name": "HTMLModel",
          "model_module_version": "1.5.0",
          "state": {
            "_view_name": "HTMLView",
            "style": "IPY_MODEL_77a58856cea04b34abb9b0d353915eed",
            "_dom_classes": [],
            "description": "",
            "_model_name": "HTMLModel",
            "placeholder": "​",
            "_view_module": "@jupyter-widgets/controls",
            "_model_module_version": "1.5.0",
            "value": "",
            "_view_count": null,
            "_view_module_version": "1.5.0",
            "description_tooltip": null,
            "_model_module": "@jupyter-widgets/controls",
            "layout": "IPY_MODEL_c853d64c81234fd9820d3b82b9a44028"
          }
        },
        "4ea99adb717943cfae7caab8e8d28769": {
          "model_module": "@jupyter-widgets/controls",
          "model_name": "FloatProgressModel",
          "model_module_version": "1.5.0",
          "state": {
            "_view_name": "ProgressView",
            "style": "IPY_MODEL_c8b18c8dcb2d4fbc9f59f73398f803d2",
            "_dom_classes": [],
            "description": "",
            "_model_name": "FloatProgressModel",
            "bar_style": "info",
            "max": 1,
            "_view_module": "@jupyter-widgets/controls",
            "_model_module_version": "1.5.0",
            "value": 1,
            "_view_count": null,
            "_view_module_version": "1.5.0",
            "orientation": "horizontal",
            "min": 0,
            "description_tooltip": null,
            "_model_module": "@jupyter-widgets/controls",
            "layout": "IPY_MODEL_365d24c187f54cf7ae16127c242eb697"
          }
        },
        "1675779d42f54331a6c8f1779b456836": {
          "model_module": "@jupyter-widgets/controls",
          "model_name": "HTMLModel",
          "model_module_version": "1.5.0",
          "state": {
            "_view_name": "HTMLView",
            "style": "IPY_MODEL_704620138d2748419cfbee131a522b3b",
            "_dom_classes": [],
            "description": "",
            "_model_name": "HTMLModel",
            "placeholder": "​",
            "_view_module": "@jupyter-widgets/controls",
            "_model_module_version": "1.5.0",
            "value": " 4879/0 [00:32&lt;00:00, 171.11 examples/s]",
            "_view_count": null,
            "_view_module_version": "1.5.0",
            "description_tooltip": null,
            "_model_module": "@jupyter-widgets/controls",
            "layout": "IPY_MODEL_54fb11a26bf542d08766f9a1957a96bf"
          }
        },
        "77a58856cea04b34abb9b0d353915eed": {
          "model_module": "@jupyter-widgets/controls",
          "model_name": "DescriptionStyleModel",
          "model_module_version": "1.5.0",
          "state": {
            "_view_name": "StyleView",
            "_model_name": "DescriptionStyleModel",
            "description_width": "",
            "_view_module": "@jupyter-widgets/base",
            "_model_module_version": "1.5.0",
            "_view_count": null,
            "_view_module_version": "1.2.0",
            "_model_module": "@jupyter-widgets/controls"
          }
        },
        "c853d64c81234fd9820d3b82b9a44028": {
          "model_module": "@jupyter-widgets/base",
          "model_name": "LayoutModel",
          "model_module_version": "1.2.0",
          "state": {
            "_view_name": "LayoutView",
            "grid_template_rows": null,
            "right": null,
            "justify_content": null,
            "_view_module": "@jupyter-widgets/base",
            "overflow": null,
            "_model_module_version": "1.2.0",
            "_view_count": null,
            "flex_flow": null,
            "width": null,
            "min_width": null,
            "border": null,
            "align_items": null,
            "bottom": null,
            "_model_module": "@jupyter-widgets/base",
            "top": null,
            "grid_column": null,
            "overflow_y": null,
            "overflow_x": null,
            "grid_auto_flow": null,
            "grid_area": null,
            "grid_template_columns": null,
            "flex": null,
            "_model_name": "LayoutModel",
            "justify_items": null,
            "grid_row": null,
            "max_height": null,
            "align_content": null,
            "visibility": null,
            "align_self": null,
            "height": null,
            "min_height": null,
            "padding": null,
            "grid_auto_rows": null,
            "grid_gap": null,
            "max_width": null,
            "order": null,
            "_view_module_version": "1.2.0",
            "grid_template_areas": null,
            "object_position": null,
            "object_fit": null,
            "grid_auto_columns": null,
            "margin": null,
            "display": null,
            "left": null
          }
        },
        "c8b18c8dcb2d4fbc9f59f73398f803d2": {
          "model_module": "@jupyter-widgets/controls",
          "model_name": "ProgressStyleModel",
          "model_module_version": "1.5.0",
          "state": {
            "_view_name": "StyleView",
            "_model_name": "ProgressStyleModel",
            "description_width": "",
            "_view_module": "@jupyter-widgets/base",
            "_model_module_version": "1.5.0",
            "_view_count": null,
            "_view_module_version": "1.2.0",
            "bar_color": null,
            "_model_module": "@jupyter-widgets/controls"
          }
        },
        "365d24c187f54cf7ae16127c242eb697": {
          "model_module": "@jupyter-widgets/base",
          "model_name": "LayoutModel",
          "model_module_version": "1.2.0",
          "state": {
            "_view_name": "LayoutView",
            "grid_template_rows": null,
            "right": null,
            "justify_content": null,
            "_view_module": "@jupyter-widgets/base",
            "overflow": null,
            "_model_module_version": "1.2.0",
            "_view_count": null,
            "flex_flow": null,
            "width": "20px",
            "min_width": null,
            "border": null,
            "align_items": null,
            "bottom": null,
            "_model_module": "@jupyter-widgets/base",
            "top": null,
            "grid_column": null,
            "overflow_y": null,
            "overflow_x": null,
            "grid_auto_flow": null,
            "grid_area": null,
            "grid_template_columns": null,
            "flex": null,
            "_model_name": "LayoutModel",
            "justify_items": null,
            "grid_row": null,
            "max_height": null,
            "align_content": null,
            "visibility": null,
            "align_self": null,
            "height": null,
            "min_height": null,
            "padding": null,
            "grid_auto_rows": null,
            "grid_gap": null,
            "max_width": null,
            "order": null,
            "_view_module_version": "1.2.0",
            "grid_template_areas": null,
            "object_position": null,
            "object_fit": null,
            "grid_auto_columns": null,
            "margin": null,
            "display": null,
            "left": null
          }
        },
        "704620138d2748419cfbee131a522b3b": {
          "model_module": "@jupyter-widgets/controls",
          "model_name": "DescriptionStyleModel",
          "model_module_version": "1.5.0",
          "state": {
            "_view_name": "StyleView",
            "_model_name": "DescriptionStyleModel",
            "description_width": "",
            "_view_module": "@jupyter-widgets/base",
            "_model_module_version": "1.5.0",
            "_view_count": null,
            "_view_module_version": "1.2.0",
            "_model_module": "@jupyter-widgets/controls"
          }
        },
        "54fb11a26bf542d08766f9a1957a96bf": {
          "model_module": "@jupyter-widgets/base",
          "model_name": "LayoutModel",
          "model_module_version": "1.2.0",
          "state": {
            "_view_name": "LayoutView",
            "grid_template_rows": null,
            "right": null,
            "justify_content": null,
            "_view_module": "@jupyter-widgets/base",
            "overflow": null,
            "_model_module_version": "1.2.0",
            "_view_count": null,
            "flex_flow": null,
            "width": null,
            "min_width": null,
            "border": null,
            "align_items": null,
            "bottom": null,
            "_model_module": "@jupyter-widgets/base",
            "top": null,
            "grid_column": null,
            "overflow_y": null,
            "overflow_x": null,
            "grid_auto_flow": null,
            "grid_area": null,
            "grid_template_columns": null,
            "flex": null,
            "_model_name": "LayoutModel",
            "justify_items": null,
            "grid_row": null,
            "max_height": null,
            "align_content": null,
            "visibility": null,
            "align_self": null,
            "height": null,
            "min_height": null,
            "padding": null,
            "grid_auto_rows": null,
            "grid_gap": null,
            "max_width": null,
            "order": null,
            "_view_module_version": "1.2.0",
            "grid_template_areas": null,
            "object_position": null,
            "object_fit": null,
            "grid_auto_columns": null,
            "margin": null,
            "display": null,
            "left": null
          }
        },
        "70bef760fdb744619306e2473abc01b2": {
          "model_module": "@jupyter-widgets/controls",
          "model_name": "HBoxModel",
          "model_module_version": "1.5.0",
          "state": {
            "_view_name": "HBoxView",
            "_dom_classes": [],
            "_model_name": "HBoxModel",
            "_view_module": "@jupyter-widgets/controls",
            "_model_module_version": "1.5.0",
            "_view_count": null,
            "_view_module_version": "1.5.0",
            "box_style": "",
            "layout": "IPY_MODEL_13c87795c24f461abc8737b51cf88f81",
            "_model_module": "@jupyter-widgets/controls",
            "children": [
              "IPY_MODEL_eae1f41630b547d595d3e20b8a18d529",
              "IPY_MODEL_e9f68e59e82e48098e60bb989cfd556d",
              "IPY_MODEL_e06e50e47e264fe7be5798d9017ba1c9"
            ]
          }
        },
        "13c87795c24f461abc8737b51cf88f81": {
          "model_module": "@jupyter-widgets/base",
          "model_name": "LayoutModel",
          "model_module_version": "1.2.0",
          "state": {
            "_view_name": "LayoutView",
            "grid_template_rows": null,
            "right": null,
            "justify_content": null,
            "_view_module": "@jupyter-widgets/base",
            "overflow": null,
            "_model_module_version": "1.2.0",
            "_view_count": null,
            "flex_flow": null,
            "width": null,
            "min_width": null,
            "border": null,
            "align_items": null,
            "bottom": null,
            "_model_module": "@jupyter-widgets/base",
            "top": null,
            "grid_column": null,
            "overflow_y": null,
            "overflow_x": null,
            "grid_auto_flow": null,
            "grid_area": null,
            "grid_template_columns": null,
            "flex": null,
            "_model_name": "LayoutModel",
            "justify_items": null,
            "grid_row": null,
            "max_height": null,
            "align_content": null,
            "visibility": null,
            "align_self": null,
            "height": null,
            "min_height": null,
            "padding": null,
            "grid_auto_rows": null,
            "grid_gap": null,
            "max_width": null,
            "order": null,
            "_view_module_version": "1.2.0",
            "grid_template_areas": null,
            "object_position": null,
            "object_fit": null,
            "grid_auto_columns": null,
            "margin": null,
            "display": null,
            "left": null
          }
        },
        "eae1f41630b547d595d3e20b8a18d529": {
          "model_module": "@jupyter-widgets/controls",
          "model_name": "HTMLModel",
          "model_module_version": "1.5.0",
          "state": {
            "_view_name": "HTMLView",
            "style": "IPY_MODEL_90d89f1ff0564f7e9e7d777069fd1ce8",
            "_dom_classes": [],
            "description": "",
            "_model_name": "HTMLModel",
            "placeholder": "​",
            "_view_module": "@jupyter-widgets/controls",
            "_model_module_version": "1.5.0",
            "value": "100%",
            "_view_count": null,
            "_view_module_version": "1.5.0",
            "description_tooltip": null,
            "_model_module": "@jupyter-widgets/controls",
            "layout": "IPY_MODEL_54ee34c4b48a4427bf925f99f2731202"
          }
        },
        "e9f68e59e82e48098e60bb989cfd556d": {
          "model_module": "@jupyter-widgets/controls",
          "model_name": "FloatProgressModel",
          "model_module_version": "1.5.0",
          "state": {
            "_view_name": "ProgressView",
            "style": "IPY_MODEL_e947687bd45543b0b9da6f208669256e",
            "_dom_classes": [],
            "description": "",
            "_model_name": "FloatProgressModel",
            "bar_style": "danger",
            "max": 4890,
            "_view_module": "@jupyter-widgets/controls",
            "_model_module_version": "1.5.0",
            "value": 4889,
            "_view_count": null,
            "_view_module_version": "1.5.0",
            "orientation": "horizontal",
            "min": 0,
            "description_tooltip": null,
            "_model_module": "@jupyter-widgets/controls",
            "layout": "IPY_MODEL_5a61554090ba46979414994c70de102d"
          }
        },
        "e06e50e47e264fe7be5798d9017ba1c9": {
          "model_module": "@jupyter-widgets/controls",
          "model_name": "HTMLModel",
          "model_module_version": "1.5.0",
          "state": {
            "_view_name": "HTMLView",
            "style": "IPY_MODEL_abf988976eb94a8a9e8ab700cbe1c348",
            "_dom_classes": [],
            "description": "",
            "_model_name": "HTMLModel",
            "placeholder": "​",
            "_view_module": "@jupyter-widgets/controls",
            "_model_module_version": "1.5.0",
            "value": " 4889/4890 [00:00&lt;00:00, 8123.82 examples/s]",
            "_view_count": null,
            "_view_module_version": "1.5.0",
            "description_tooltip": null,
            "_model_module": "@jupyter-widgets/controls",
            "layout": "IPY_MODEL_4d2a22d5e2ad48daaaac32a1521d4b28"
          }
        },
        "90d89f1ff0564f7e9e7d777069fd1ce8": {
          "model_module": "@jupyter-widgets/controls",
          "model_name": "DescriptionStyleModel",
          "model_module_version": "1.5.0",
          "state": {
            "_view_name": "StyleView",
            "_model_name": "DescriptionStyleModel",
            "description_width": "",
            "_view_module": "@jupyter-widgets/base",
            "_model_module_version": "1.5.0",
            "_view_count": null,
            "_view_module_version": "1.2.0",
            "_model_module": "@jupyter-widgets/controls"
          }
        },
        "54ee34c4b48a4427bf925f99f2731202": {
          "model_module": "@jupyter-widgets/base",
          "model_name": "LayoutModel",
          "model_module_version": "1.2.0",
          "state": {
            "_view_name": "LayoutView",
            "grid_template_rows": null,
            "right": null,
            "justify_content": null,
            "_view_module": "@jupyter-widgets/base",
            "overflow": null,
            "_model_module_version": "1.2.0",
            "_view_count": null,
            "flex_flow": null,
            "width": null,
            "min_width": null,
            "border": null,
            "align_items": null,
            "bottom": null,
            "_model_module": "@jupyter-widgets/base",
            "top": null,
            "grid_column": null,
            "overflow_y": null,
            "overflow_x": null,
            "grid_auto_flow": null,
            "grid_area": null,
            "grid_template_columns": null,
            "flex": null,
            "_model_name": "LayoutModel",
            "justify_items": null,
            "grid_row": null,
            "max_height": null,
            "align_content": null,
            "visibility": null,
            "align_self": null,
            "height": null,
            "min_height": null,
            "padding": null,
            "grid_auto_rows": null,
            "grid_gap": null,
            "max_width": null,
            "order": null,
            "_view_module_version": "1.2.0",
            "grid_template_areas": null,
            "object_position": null,
            "object_fit": null,
            "grid_auto_columns": null,
            "margin": null,
            "display": null,
            "left": null
          }
        },
        "e947687bd45543b0b9da6f208669256e": {
          "model_module": "@jupyter-widgets/controls",
          "model_name": "ProgressStyleModel",
          "model_module_version": "1.5.0",
          "state": {
            "_view_name": "StyleView",
            "_model_name": "ProgressStyleModel",
            "description_width": "",
            "_view_module": "@jupyter-widgets/base",
            "_model_module_version": "1.5.0",
            "_view_count": null,
            "_view_module_version": "1.2.0",
            "bar_color": null,
            "_model_module": "@jupyter-widgets/controls"
          }
        },
        "5a61554090ba46979414994c70de102d": {
          "model_module": "@jupyter-widgets/base",
          "model_name": "LayoutModel",
          "model_module_version": "1.2.0",
          "state": {
            "_view_name": "LayoutView",
            "grid_template_rows": null,
            "right": null,
            "justify_content": null,
            "_view_module": "@jupyter-widgets/base",
            "overflow": null,
            "_model_module_version": "1.2.0",
            "_view_count": null,
            "flex_flow": null,
            "width": null,
            "min_width": null,
            "border": null,
            "align_items": null,
            "bottom": null,
            "_model_module": "@jupyter-widgets/base",
            "top": null,
            "grid_column": null,
            "overflow_y": null,
            "overflow_x": null,
            "grid_auto_flow": null,
            "grid_area": null,
            "grid_template_columns": null,
            "flex": null,
            "_model_name": "LayoutModel",
            "justify_items": null,
            "grid_row": null,
            "max_height": null,
            "align_content": null,
            "visibility": null,
            "align_self": null,
            "height": null,
            "min_height": null,
            "padding": null,
            "grid_auto_rows": null,
            "grid_gap": null,
            "max_width": null,
            "order": null,
            "_view_module_version": "1.2.0",
            "grid_template_areas": null,
            "object_position": null,
            "object_fit": null,
            "grid_auto_columns": null,
            "margin": null,
            "display": null,
            "left": null
          }
        },
        "abf988976eb94a8a9e8ab700cbe1c348": {
          "model_module": "@jupyter-widgets/controls",
          "model_name": "DescriptionStyleModel",
          "model_module_version": "1.5.0",
          "state": {
            "_view_name": "StyleView",
            "_model_name": "DescriptionStyleModel",
            "description_width": "",
            "_view_module": "@jupyter-widgets/base",
            "_model_module_version": "1.5.0",
            "_view_count": null,
            "_view_module_version": "1.2.0",
            "_model_module": "@jupyter-widgets/controls"
          }
        },
        "4d2a22d5e2ad48daaaac32a1521d4b28": {
          "model_module": "@jupyter-widgets/base",
          "model_name": "LayoutModel",
          "model_module_version": "1.2.0",
          "state": {
            "_view_name": "LayoutView",
            "grid_template_rows": null,
            "right": null,
            "justify_content": null,
            "_view_module": "@jupyter-widgets/base",
            "overflow": null,
            "_model_module_version": "1.2.0",
            "_view_count": null,
            "flex_flow": null,
            "width": null,
            "min_width": null,
            "border": null,
            "align_items": null,
            "bottom": null,
            "_model_module": "@jupyter-widgets/base",
            "top": null,
            "grid_column": null,
            "overflow_y": null,
            "overflow_x": null,
            "grid_auto_flow": null,
            "grid_area": null,
            "grid_template_columns": null,
            "flex": null,
            "_model_name": "LayoutModel",
            "justify_items": null,
            "grid_row": null,
            "max_height": null,
            "align_content": null,
            "visibility": null,
            "align_self": null,
            "height": null,
            "min_height": null,
            "padding": null,
            "grid_auto_rows": null,
            "grid_gap": null,
            "max_width": null,
            "order": null,
            "_view_module_version": "1.2.0",
            "grid_template_areas": null,
            "object_position": null,
            "object_fit": null,
            "grid_auto_columns": null,
            "margin": null,
            "display": null,
            "left": null
          }
        }
      }
    }
  },
  "cells": [
    {
      "cell_type": "markdown",
      "source": [
        "# This notebook is for prelimary EDA"
      ],
      "metadata": {
        "id": "-O3xo7x2TZje"
      }
    },
    {
      "cell_type": "code",
      "source": [
        "#Check if colab is connect to gpu\n",
        "gpu_info = !nvidia-smi\n",
        "gpu_info = '\\n'.join(gpu_info)\n",
        "if gpu_info.find('failed') >= 0:\n",
        "  print('Not connected to a GPU')\n",
        "else:\n",
        "  print(gpu_info)"
      ],
      "metadata": {
        "colab": {
          "base_uri": "https://localhost:8080/"
        },
        "id": "2HKVEn1IYPV6",
        "outputId": "ae5726f2-92b4-4692-8ce5-3adb522eae79"
      },
      "execution_count": 1,
      "outputs": [
        {
          "output_type": "stream",
          "name": "stdout",
          "text": [
            "Not connected to a GPU\n"
          ]
        }
      ]
    },
    {
      "cell_type": "code",
      "source": [
        "# Check if colab is using high-RAm runtime\n",
        "from psutil import virtual_memory\n",
        "ram_gb = virtual_memory().total / 1e9\n",
        "print('Your runtime has {:.1f} gigabytes of available RAM\\n'.format(ram_gb))\n",
        "\n",
        "if ram_gb < 20:\n",
        "  print('Not using a high-RAM runtime')\n",
        "else:\n",
        "  print('You are using a high-RAM runtime!')"
      ],
      "metadata": {
        "colab": {
          "base_uri": "https://localhost:8080/"
        },
        "id": "hBxRHmFMNARZ",
        "outputId": "c8223ca1-57db-4105-c295-c681150e26d2"
      },
      "execution_count": 2,
      "outputs": [
        {
          "output_type": "stream",
          "name": "stdout",
          "text": [
            "Your runtime has 37.8 gigabytes of available RAM\n",
            "\n",
            "You are using a high-RAM runtime!\n"
          ]
        }
      ]
    },
    {
      "cell_type": "code",
      "source": [
        "pip install pydub"
      ],
      "metadata": {
        "colab": {
          "base_uri": "https://localhost:8080/"
        },
        "id": "n_ltxwxkW3Xb",
        "outputId": "16dbb9e6-b19d-4608-dc5b-ab6946f7d1f3"
      },
      "execution_count": 3,
      "outputs": [
        {
          "output_type": "stream",
          "name": "stdout",
          "text": [
            "Collecting pydub\n",
            "  Downloading pydub-0.25.1-py2.py3-none-any.whl (32 kB)\n",
            "Installing collected packages: pydub\n",
            "Successfully installed pydub-0.25.1\n"
          ]
        }
      ]
    },
    {
      "cell_type": "code",
      "execution_count": 4,
      "metadata": {
        "id": "-0d_oQVZJaHB"
      },
      "outputs": [],
      "source": [
        "import os\n",
        "\n",
        "import matplotlib.pyplot as plt\n",
        "import pandas as pd\n",
        "import numpy as np\n",
        "import tensorflow as tf\n",
        "import tensorflow_datasets as tfds\n",
        "import librosa\n",
        "import librosa.display\n",
        "import pydub\n",
        "import joblib\n",
        "\n"
      ]
    },
    {
      "cell_type": "markdown",
      "source": [
        "### Load in the Data"
      ],
      "metadata": {
        "id": "XZQMnCNpIFgL"
      }
    },
    {
      "cell_type": "code",
      "source": [
        "train, test, val = tfds.load('speech_commands', split=['train', 'test', 'validation'])\n"
      ],
      "metadata": {
        "id": "NTSabCcgVjhj",
        "colab": {
          "base_uri": "https://localhost:8080/",
          "height": 319,
          "referenced_widgets": [
            "ed9b3b05a3014878a0a3f30e73707ffb",
            "d5e72388341a4c05b10cacb50e6e720c",
            "04c20f27a22b4cb683ca166253cb6f7e",
            "8126245d180e48d2bcc1d5dde1bc9b96",
            "a1871788171147118ad4b24c6538143d",
            "626ab410bc204268ba4e96d1ce6c4362",
            "7f7f1987c00541b891fe578d46fed5e9",
            "32367e3a2dda48a2ac52ba3dabdbbf7f",
            "69365b25f81f4e6496cef482e76efc71",
            "0bc1993ea19e45e495a70de1f8029160",
            "010ffbd0a8f84842b721f8085f167cc1",
            "f0394959e7d74850a917e545123d47a2",
            "c6e019e111a448d4830b0612d15b384c",
            "401d30a2a7504333b16d66b24b7b2100",
            "2dfc135ae3bd4c82ab899284c6c49d02",
            "cd58353ff29349d8b188aff116afc925",
            "2b7e172993f7493f994215c91cb6be3c",
            "9092543b010045988e05dac4f9714ef2",
            "5af88eacb1524bdaa53211de7a71de1d",
            "8a23ce46d0f64685879cf6cc04e6f8ad",
            "a5a7dc103085496ead02b53306f65296",
            "61039883421a4dbfa85e27938c689016",
            "a2c8f00905814375a62bfd5c821e3ea8",
            "e2d71c78a2bc40a586eed9251dbede53",
            "4227ea8501964851acf9962d8dde5a28",
            "c28e8b6c99a446d29f5d26f0324308c0",
            "1c46bdc6cf934a7ca300de51dc8c2091",
            "71d106e00c784b8584b77ca8875d0e21",
            "9e88669446374c5fb840ea57d41772c7",
            "6f0917bc9c824d04ba841435df5e9f00",
            "510dcbad214c452ebe5e9d5c09fb2aca",
            "a5dea3b83d274d62a817fc71095a8445",
            "0b84c4cbc1b342af933e3933ee8adff2",
            "2c90f83185a045259686031dba6f59d3",
            "b12bef5f2df94e50b75263ee66cc4923",
            "43870c8fe0cc4d74981dcbe987903836",
            "79f8e5dedc7d4d0ab17a376688043c1f",
            "f866d47b1e804b4aa2de0a0a2131afc1",
            "bb00bccc93694b338de16b3ef167d0ac",
            "91cd89c193054e2b94f4c0af96241c78",
            "72214b63b3d14e19ac5edd36aa2f4161",
            "67ed7ce1afd4443fbe0258b9f0db8126",
            "111cd0176bb34ebaaa46eae0a5fe3956",
            "2b42f73a15be4ac39ab113d746b0740b",
            "0ff9ec16a18f49da85dc592a87ed6ad9",
            "c12e77a15f9b4407a04f99deb0280302",
            "2d786f33569a43c69cc511f32e049b2a",
            "e36816e49c2443fdb017e04004107cb9",
            "416de8c39fb34301874613cc60ced083",
            "7f817b9b6e5143c591873544323ec05f",
            "4208063d9f99423bb3aff54390371d6d",
            "56cf605ba4e148f0b66938f50840bd3e",
            "4560b3070ab94fe69348f520c70d0c77",
            "4a15ebce61524bf5ae8d37bf1a71046d",
            "df637b4e4321456b9cf7a2967d715f02",
            "0f5306a7cea646659f61e05ef562b67d",
            "29bdc2883ea24de8a958bba1edd3eca7",
            "036f9359680a4688858407b9da70a22a",
            "ead6247dcda8462cb05658c1b9552b6d",
            "45d079e4111e40bbbf91fd035de4d1b8",
            "5bfc67469f2c4c57b54d3ed1183336c8",
            "e77548f0a2b84c38863482bbff73f231",
            "01595b5bc6514943802dc178039d35da",
            "52d01de99f674058b858f2ef9636d948",
            "afbf44a1532c47f6a2b82c416c7d044a",
            "4481112de8c84362ba934612c1bbffc6",
            "3730155092e04d9b9eb0174e8a09ff04",
            "a58750408a48446ea61f976a5636c3e3",
            "b479e496cac046f9a917d660eb9eed61",
            "4ea99adb717943cfae7caab8e8d28769",
            "1675779d42f54331a6c8f1779b456836",
            "77a58856cea04b34abb9b0d353915eed",
            "c853d64c81234fd9820d3b82b9a44028",
            "c8b18c8dcb2d4fbc9f59f73398f803d2",
            "365d24c187f54cf7ae16127c242eb697",
            "704620138d2748419cfbee131a522b3b",
            "54fb11a26bf542d08766f9a1957a96bf",
            "70bef760fdb744619306e2473abc01b2",
            "13c87795c24f461abc8737b51cf88f81",
            "eae1f41630b547d595d3e20b8a18d529",
            "e9f68e59e82e48098e60bb989cfd556d",
            "e06e50e47e264fe7be5798d9017ba1c9",
            "90d89f1ff0564f7e9e7d777069fd1ce8",
            "54ee34c4b48a4427bf925f99f2731202",
            "e947687bd45543b0b9da6f208669256e",
            "5a61554090ba46979414994c70de102d",
            "abf988976eb94a8a9e8ab700cbe1c348",
            "4d2a22d5e2ad48daaaac32a1521d4b28"
          ]
        },
        "outputId": "6bf6bd4a-c403-4cab-e0b7-4f37954af820"
      },
      "execution_count": 5,
      "outputs": [
        {
          "output_type": "stream",
          "name": "stdout",
          "text": [
            "\u001b[1mDownloading and preparing dataset speech_commands/0.0.2 (download: 2.37 GiB, generated: 8.17 GiB, total: 10.53 GiB) to /root/tensorflow_datasets/speech_commands/0.0.2...\u001b[0m\n"
          ]
        },
        {
          "output_type": "display_data",
          "data": {
            "application/vnd.jupyter.widget-view+json": {
              "model_id": "ed9b3b05a3014878a0a3f30e73707ffb",
              "version_minor": 0,
              "version_major": 2
            },
            "text/plain": [
              "Dl Completed...: 0 url [00:00, ? url/s]"
            ]
          },
          "metadata": {}
        },
        {
          "output_type": "display_data",
          "data": {
            "application/vnd.jupyter.widget-view+json": {
              "model_id": "f0394959e7d74850a917e545123d47a2",
              "version_minor": 0,
              "version_major": 2
            },
            "text/plain": [
              "Dl Size...: 0 MiB [00:00, ? MiB/s]"
            ]
          },
          "metadata": {}
        },
        {
          "output_type": "stream",
          "name": "stdout",
          "text": [
            "\n",
            "\n"
          ]
        },
        {
          "output_type": "display_data",
          "data": {
            "application/vnd.jupyter.widget-view+json": {
              "model_id": "a2c8f00905814375a62bfd5c821e3ea8",
              "version_minor": 0,
              "version_major": 2
            },
            "text/plain": [
              "0 examples [00:00, ? examples/s]"
            ]
          },
          "metadata": {}
        },
        {
          "output_type": "stream",
          "name": "stdout",
          "text": [
            "Shuffling and writing examples to /root/tensorflow_datasets/speech_commands/0.0.2.incompleteNZ6OUJ/speech_commands-train.tfrecord\n"
          ]
        },
        {
          "output_type": "display_data",
          "data": {
            "application/vnd.jupyter.widget-view+json": {
              "model_id": "2c90f83185a045259686031dba6f59d3",
              "version_minor": 0,
              "version_major": 2
            },
            "text/plain": [
              "  0%|          | 0/85511 [00:00<?, ? examples/s]"
            ]
          },
          "metadata": {}
        },
        {
          "output_type": "display_data",
          "data": {
            "application/vnd.jupyter.widget-view+json": {
              "model_id": "0ff9ec16a18f49da85dc592a87ed6ad9",
              "version_minor": 0,
              "version_major": 2
            },
            "text/plain": [
              "0 examples [00:00, ? examples/s]"
            ]
          },
          "metadata": {}
        },
        {
          "output_type": "stream",
          "name": "stdout",
          "text": [
            "Shuffling and writing examples to /root/tensorflow_datasets/speech_commands/0.0.2.incompleteNZ6OUJ/speech_commands-validation.tfrecord\n"
          ]
        },
        {
          "output_type": "display_data",
          "data": {
            "application/vnd.jupyter.widget-view+json": {
              "model_id": "0f5306a7cea646659f61e05ef562b67d",
              "version_minor": 0,
              "version_major": 2
            },
            "text/plain": [
              "  0%|          | 0/10102 [00:00<?, ? examples/s]"
            ]
          },
          "metadata": {}
        },
        {
          "output_type": "display_data",
          "data": {
            "application/vnd.jupyter.widget-view+json": {
              "model_id": "3730155092e04d9b9eb0174e8a09ff04",
              "version_minor": 0,
              "version_major": 2
            },
            "text/plain": [
              "0 examples [00:00, ? examples/s]"
            ]
          },
          "metadata": {}
        },
        {
          "output_type": "stream",
          "name": "stdout",
          "text": [
            "Shuffling and writing examples to /root/tensorflow_datasets/speech_commands/0.0.2.incompleteNZ6OUJ/speech_commands-test.tfrecord\n"
          ]
        },
        {
          "output_type": "display_data",
          "data": {
            "application/vnd.jupyter.widget-view+json": {
              "model_id": "70bef760fdb744619306e2473abc01b2",
              "version_minor": 0,
              "version_major": 2
            },
            "text/plain": [
              "  0%|          | 0/4890 [00:00<?, ? examples/s]"
            ]
          },
          "metadata": {}
        },
        {
          "output_type": "stream",
          "name": "stdout",
          "text": [
            "\u001b[1mDataset speech_commands downloaded and prepared to /root/tensorflow_datasets/speech_commands/0.0.2. Subsequent calls will reuse this data.\u001b[0m\n"
          ]
        }
      ]
    },
    {
      "cell_type": "code",
      "source": [
        "type(train)"
      ],
      "metadata": {
        "colab": {
          "base_uri": "https://localhost:8080/"
        },
        "id": "DxdduNnwDtvJ",
        "outputId": "24981f6e-5c3f-4f49-de6d-55a9af336e3a"
      },
      "execution_count": 6,
      "outputs": [
        {
          "output_type": "execute_result",
          "data": {
            "text/plain": [
              "tensorflow.python.data.ops.dataset_ops.PrefetchDataset"
            ]
          },
          "metadata": {},
          "execution_count": 6
        }
      ]
    },
    {
      "cell_type": "markdown",
      "source": [
        "### Print out info about the classes and label names"
      ],
      "metadata": {
        "id": "WoQpABQPF2NB"
      }
    },
    {
      "cell_type": "code",
      "source": [
        "builder = tfds.builder('speech_commands')\n",
        "info = builder.info\n",
        "commands = info.features['label'].names\n",
        "print(info.features['label'].num_classes)\n",
        "print(f'Commands {commands}')"
      ],
      "metadata": {
        "colab": {
          "base_uri": "https://localhost:8080/"
        },
        "id": "Xh_edn_-Fy8i",
        "outputId": "17b1116c-c31e-4b53-cbdd-3e4f552a9bfe"
      },
      "execution_count": 7,
      "outputs": [
        {
          "output_type": "stream",
          "name": "stdout",
          "text": [
            "12\n",
            "Commands ['down', 'go', 'left', 'no', 'off', 'on', 'right', 'stop', 'up', 'yes', '_silence_', '_unknown_']\n"
          ]
        }
      ]
    },
    {
      "cell_type": "markdown",
      "source": [
        "### Examples of audio clips"
      ],
      "metadata": {
        "id": "QSi9tTnkIXSt"
      }
    },
    {
      "cell_type": "code",
      "source": [
        "ds, info = tfds.load('speech_commands', split = 'train', with_info = 'True')"
      ],
      "metadata": {
        "id": "tNYp1I0udWd1"
      },
      "execution_count": 8,
      "outputs": []
    },
    {
      "cell_type": "code",
      "source": [
        "tfds.as_dataframe(ds.take(4), info)"
      ],
      "metadata": {
        "colab": {
          "base_uri": "https://localhost:8080/",
          "height": 290
        },
        "id": "AbrOLelwdoMa",
        "outputId": "2a018d0d-2f51-41a0-9a87-4d4c3b01ca27"
      },
      "execution_count": 9,
      "outputs": [
        {
          "output_type": "execute_result",
          "data": {
            "text/html": [
              "<style  type=\"text/css\" >\n",
              "</style><table id=\"T_8fa8fdb8_5e1a_11ec_b0a1_0242ac1c0002\" ><thead>    <tr>        <th class=\"blank level0\" ></th>        <th class=\"col_heading level0 col0\" >audio</th>        <th class=\"col_heading level0 col1\" >label</th>    </tr></thead><tbody>\n",
              "                <tr>\n",
              "                        <th id=\"T_8fa8fdb8_5e1a_11ec_b0a1_0242ac1c0002level0_row0\" class=\"row_heading level0 row0\" >0</th>\n",
              "                        <td id=\"T_8fa8fdb8_5e1a_11ec_b0a1_0242ac1c0002row0_col0\" class=\"data row0 col0\" ><audio controls src=\"data:audio/ogg;base64,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\"  controlsList=\"nodownload\" /></td>\n",
              "                        <td id=\"T_8fa8fdb8_5e1a_11ec_b0a1_0242ac1c0002row0_col1\" class=\"data row0 col1\" >4 (off)</td>\n",
              "            </tr>\n",
              "            <tr>\n",
              "                        <th id=\"T_8fa8fdb8_5e1a_11ec_b0a1_0242ac1c0002level0_row1\" class=\"row_heading level0 row1\" >1</th>\n",
              "                        <td id=\"T_8fa8fdb8_5e1a_11ec_b0a1_0242ac1c0002row1_col0\" class=\"data row1 col0\" ><audio controls src=\"data:audio/ogg;base64,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\"  controlsList=\"nodownload\" /></td>\n",
              "                        <td id=\"T_8fa8fdb8_5e1a_11ec_b0a1_0242ac1c0002row1_col1\" class=\"data row1 col1\" >5 (on)</td>\n",
              "            </tr>\n",
              "            <tr>\n",
              "                        <th id=\"T_8fa8fdb8_5e1a_11ec_b0a1_0242ac1c0002level0_row2\" class=\"row_heading level0 row2\" >2</th>\n",
              "                        <td id=\"T_8fa8fdb8_5e1a_11ec_b0a1_0242ac1c0002row2_col0\" class=\"data row2 col0\" ><audio controls src=\"data:audio/ogg;base64,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\"  controlsList=\"nodownload\" /></td>\n",
              "                        <td id=\"T_8fa8fdb8_5e1a_11ec_b0a1_0242ac1c0002row2_col1\" class=\"data row2 col1\" >7 (stop)</td>\n",
              "            </tr>\n",
              "            <tr>\n",
              "                        <th id=\"T_8fa8fdb8_5e1a_11ec_b0a1_0242ac1c0002level0_row3\" class=\"row_heading level0 row3\" >3</th>\n",
              "                        <td id=\"T_8fa8fdb8_5e1a_11ec_b0a1_0242ac1c0002row3_col0\" class=\"data row3 col0\" ><audio controls src=\"data:audio/ogg;base64,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\"  controlsList=\"nodownload\" /></td>\n",
              "                        <td id=\"T_8fa8fdb8_5e1a_11ec_b0a1_0242ac1c0002row3_col1\" class=\"data row3 col1\" >5 (on)</td>\n",
              "            </tr>\n",
              "    </tbody></table>"
            ],
            "text/plain": [
              "                                               audio  label\n",
              "0  [-15, -18, -12, -21, -22, -13, -21, -22, -13, ...      4\n",
              "1  [75, 29, -85, 5, 68, -13, -61, 18, 60, -48, -3...      5\n",
              "2  [0, 0, 2, 1, 2, 1, 1, 1, 1, 1, 0, 0, 0, 0, 1, ...      7\n",
              "3  [1, 15, 13, 11, 2, -19, -19, -11, -5, 14, 27, ...      5"
            ]
          },
          "metadata": {},
          "execution_count": 9
        }
      ]
    },
    {
      "cell_type": "markdown",
      "source": [
        "# Create DataFrames"
      ],
      "metadata": {
        "id": "m5Td132yo5un"
      }
    },
    {
      "cell_type": "code",
      "source": [
        "def create_dataframe(data):\n",
        "  ''' Create a dataframe with audio as wavelength in the form numpy.array, float 32\n",
        "  Returns pandas dataframe\n",
        "\n",
        "  Key Arguments\n",
        "  data: tensorflow.python.data.ops.dataset_ops.PrefetchDataset\n",
        "  '''\n",
        "  data_df = pd.DataFrame(data)\n",
        "  data_df['label'] =  [x.numpy() for x in data_df['label']]\n",
        "  data_df['audio'] = [tf.constant(x) for x in data_df['audio']]\n",
        "  data_df['audio'] = [ x.numpy() for x in data_df['audio']]\n",
        "  data_df['audio'] = [ x.astype(np.float32) for x in data_df['audio']]\n",
        "  data_df['label_command'] =  [ commands[label] for label in data_df['label']]\n",
        "\n",
        "  return data_df"
      ],
      "metadata": {
        "id": "6kRGbZxOC8Jb"
      },
      "execution_count": 10,
      "outputs": []
    },
    {
      "cell_type": "code",
      "source": [
        "train_df = create_dataframe(train)\n",
        "test_df = create_dataframe(test)\n",
        "val_df = create_dataframe(val)"
      ],
      "metadata": {
        "id": "0HxS5cWhELua"
      },
      "execution_count": 11,
      "outputs": []
    },
    {
      "cell_type": "code",
      "source": [
        "train_df[train_df['label'] == 8]"
      ],
      "metadata": {
        "colab": {
          "base_uri": "https://localhost:8080/",
          "height": 424
        },
        "id": "nqYuyaDdrDUJ",
        "outputId": "e5eb87ec-961e-4b59-cbe2-b57160123bc7"
      },
      "execution_count": 12,
      "outputs": [
        {
          "output_type": "execute_result",
          "data": {
            "text/html": [
              "<div>\n",
              "<style scoped>\n",
              "    .dataframe tbody tr th:only-of-type {\n",
              "        vertical-align: middle;\n",
              "    }\n",
              "\n",
              "    .dataframe tbody tr th {\n",
              "        vertical-align: top;\n",
              "    }\n",
              "\n",
              "    .dataframe thead th {\n",
              "        text-align: right;\n",
              "    }\n",
              "</style>\n",
              "<table border=\"1\" class=\"dataframe\">\n",
              "  <thead>\n",
              "    <tr style=\"text-align: right;\">\n",
              "      <th></th>\n",
              "      <th>audio</th>\n",
              "      <th>label</th>\n",
              "      <th>label_command</th>\n",
              "    </tr>\n",
              "  </thead>\n",
              "  <tbody>\n",
              "    <tr>\n",
              "      <th>36</th>\n",
              "      <td>[-17.0, -67.0, -72.0, -79.0, -62.0, -30.0, -73...</td>\n",
              "      <td>8</td>\n",
              "      <td>up</td>\n",
              "    </tr>\n",
              "    <tr>\n",
              "      <th>112</th>\n",
              "      <td>[-27.0, -31.0, -34.0, -37.0, -34.0, -44.0, -47...</td>\n",
              "      <td>8</td>\n",
              "      <td>up</td>\n",
              "    </tr>\n",
              "    <tr>\n",
              "      <th>128</th>\n",
              "      <td>[-9.0, -8.0, -12.0, -16.0, -19.0, -20.0, -20.0...</td>\n",
              "      <td>8</td>\n",
              "      <td>up</td>\n",
              "    </tr>\n",
              "    <tr>\n",
              "      <th>151</th>\n",
              "      <td>[2.0, 2.0, 4.0, 1.0, 5.0, 5.0, 0.0, 2.0, 3.0, ...</td>\n",
              "      <td>8</td>\n",
              "      <td>up</td>\n",
              "    </tr>\n",
              "    <tr>\n",
              "      <th>177</th>\n",
              "      <td>[3.0, 2.0, 0.0, -1.0, -4.0, -5.0, -6.0, -8.0, ...</td>\n",
              "      <td>8</td>\n",
              "      <td>up</td>\n",
              "    </tr>\n",
              "    <tr>\n",
              "      <th>...</th>\n",
              "      <td>...</td>\n",
              "      <td>...</td>\n",
              "      <td>...</td>\n",
              "    </tr>\n",
              "    <tr>\n",
              "      <th>85413</th>\n",
              "      <td>[0.0, 0.0, 0.0, 0.0, 0.0, 0.0, 0.0, 0.0, 0.0, ...</td>\n",
              "      <td>8</td>\n",
              "      <td>up</td>\n",
              "    </tr>\n",
              "    <tr>\n",
              "      <th>85420</th>\n",
              "      <td>[2.0, 3.0, 2.0, 3.0, 2.0, 2.0, 2.0, 2.0, 2.0, ...</td>\n",
              "      <td>8</td>\n",
              "      <td>up</td>\n",
              "    </tr>\n",
              "    <tr>\n",
              "      <th>85447</th>\n",
              "      <td>[0.0, 0.0, 0.0, 0.0, 0.0, 0.0, 0.0, 0.0, 0.0, ...</td>\n",
              "      <td>8</td>\n",
              "      <td>up</td>\n",
              "    </tr>\n",
              "    <tr>\n",
              "      <th>85459</th>\n",
              "      <td>[-9.0, -12.0, -14.0, -15.0, -19.0, -20.0, -21....</td>\n",
              "      <td>8</td>\n",
              "      <td>up</td>\n",
              "    </tr>\n",
              "    <tr>\n",
              "      <th>85470</th>\n",
              "      <td>[-17.0, -4.0, -6.0, 0.0, 11.0, 8.0, 17.0, 23.0...</td>\n",
              "      <td>8</td>\n",
              "      <td>up</td>\n",
              "    </tr>\n",
              "  </tbody>\n",
              "</table>\n",
              "<p>2948 rows × 3 columns</p>\n",
              "</div>"
            ],
            "text/plain": [
              "                                                   audio  label label_command\n",
              "36     [-17.0, -67.0, -72.0, -79.0, -62.0, -30.0, -73...      8            up\n",
              "112    [-27.0, -31.0, -34.0, -37.0, -34.0, -44.0, -47...      8            up\n",
              "128    [-9.0, -8.0, -12.0, -16.0, -19.0, -20.0, -20.0...      8            up\n",
              "151    [2.0, 2.0, 4.0, 1.0, 5.0, 5.0, 0.0, 2.0, 3.0, ...      8            up\n",
              "177    [3.0, 2.0, 0.0, -1.0, -4.0, -5.0, -6.0, -8.0, ...      8            up\n",
              "...                                                  ...    ...           ...\n",
              "85413  [0.0, 0.0, 0.0, 0.0, 0.0, 0.0, 0.0, 0.0, 0.0, ...      8            up\n",
              "85420  [2.0, 3.0, 2.0, 3.0, 2.0, 2.0, 2.0, 2.0, 2.0, ...      8            up\n",
              "85447  [0.0, 0.0, 0.0, 0.0, 0.0, 0.0, 0.0, 0.0, 0.0, ...      8            up\n",
              "85459  [-9.0, -12.0, -14.0, -15.0, -19.0, -20.0, -21....      8            up\n",
              "85470  [-17.0, -4.0, -6.0, 0.0, 11.0, 8.0, 17.0, 23.0...      8            up\n",
              "\n",
              "[2948 rows x 3 columns]"
            ]
          },
          "metadata": {},
          "execution_count": 12
        }
      ]
    },
    {
      "cell_type": "markdown",
      "source": [
        "### Print out information about the data"
      ],
      "metadata": {
        "id": "pjem0EYIItgE"
      }
    },
    {
      "cell_type": "code",
      "source": [
        "print(f'Shape of training data {train_df.shape}')\n",
        "print(f'Shape of testing data {test_df.shape}')\n",
        "print(f'Shape of valing data {val_df.shape}') "
      ],
      "metadata": {
        "colab": {
          "base_uri": "https://localhost:8080/"
        },
        "id": "PHEoyHcIFS1w",
        "outputId": "340b4c7a-7964-4e26-81f9-95366b067cbc"
      },
      "execution_count": 13,
      "outputs": [
        {
          "output_type": "stream",
          "name": "stdout",
          "text": [
            "Shape of training data (85511, 3)\n",
            "Shape of testing data (4890, 3)\n",
            "Shape of valing data (10102, 3)\n"
          ]
        }
      ]
    },
    {
      "cell_type": "code",
      "source": [
        "train_df.info()"
      ],
      "metadata": {
        "colab": {
          "base_uri": "https://localhost:8080/"
        },
        "id": "Od9YYlWU9q5O",
        "outputId": "5f9f8eef-3e58-4d05-e07b-032ada7d253b"
      },
      "execution_count": 14,
      "outputs": [
        {
          "output_type": "stream",
          "name": "stdout",
          "text": [
            "<class 'pandas.core.frame.DataFrame'>\n",
            "RangeIndex: 85511 entries, 0 to 85510\n",
            "Data columns (total 3 columns):\n",
            " #   Column         Non-Null Count  Dtype \n",
            "---  ------         --------------  ----- \n",
            " 0   audio          85511 non-null  object\n",
            " 1   label          85511 non-null  int64 \n",
            " 2   label_command  85511 non-null  object\n",
            "dtypes: int64(1), object(2)\n",
            "memory usage: 2.0+ MB\n"
          ]
        }
      ]
    },
    {
      "cell_type": "markdown",
      "source": [
        "### Save data"
      ],
      "metadata": {
        "id": "CzriyujVI8L9"
      }
    },
    {
      "cell_type": "code",
      "source": [
        "joblib.dump(train_df, './drive/MyDrive/audio_commands/data/train_df.sav')\n",
        "joblib.dump(test_df, './drive/MyDrive/audio_commands/data/test_df.sav')\n",
        "joblib.dump(val_df, './drive/MyDrive/audio_commands/data/val_df.sav')\n"
      ],
      "metadata": {
        "colab": {
          "base_uri": "https://localhost:8080/"
        },
        "id": "yB9e19n_fFDD",
        "outputId": "371c6d5a-46d4-4b99-fa4c-c6a214b75887"
      },
      "execution_count": 15,
      "outputs": [
        {
          "output_type": "execute_result",
          "data": {
            "text/plain": [
              "['./drive/MyDrive/audio_commands/data/val_df.sav']"
            ]
          },
          "metadata": {},
          "execution_count": 15
        }
      ]
    },
    {
      "cell_type": "markdown",
      "source": [
        "### Create Initital visualizations"
      ],
      "metadata": {
        "id": "nhScWajHIxxf"
      }
    },
    {
      "cell_type": "code",
      "source": [
        "x = train_df['audio'][0].astype(np.float32)\n",
        "label_x = train_df['label'][0]"
      ],
      "metadata": {
        "id": "R6YJNZto-B4o"
      },
      "execution_count": 16,
      "outputs": []
    },
    {
      "cell_type": "code",
      "source": [
        "plt.figure(figsize=(14, 5))\n",
        "librosa.display.waveplot(x)\n",
        "title = 'Waveform for \"' + str(commands[label_x]+ '\"') \n",
        "plt.title(title, fontsize = 18);"
      ],
      "metadata": {
        "colab": {
          "base_uri": "https://localhost:8080/",
          "height": 354
        },
        "id": "OISrvzHG-K7v",
        "outputId": "b20bb69d-67b2-46d0-a775-0c10a268e29b"
      },
      "execution_count": 17,
      "outputs": [
        {
          "output_type": "display_data",
          "data": {
            "image/png": "[encoded data removed]",
            "text/plain": [
              "<Figure size 1008x360 with 1 Axes>"
            ]
          },
          "metadata": {
            "needs_background": "light"
          }
        }
      ]
    },
    {
      "cell_type": "code",
      "source": [
        "X = librosa.stft(x)\n",
        "Xdb = librosa.amplitude_to_db(abs(X))\n",
        "plt.figure(figsize=(14, 5))\n",
        "librosa.display.specshow(Xdb, sr = 22050, x_axis = 'time', y_axis = 'hz', cmap = 'viridis')\n",
        "plt.colorbar()\n",
        "title = 'Spectrogram for \"' + str(commands[label_x]+ '\"') \n",
        "plt.title(title, fontsize = 18);"
      ],
      "metadata": {
        "colab": {
          "base_uri": "https://localhost:8080/",
          "height": 354
        },
        "id": "JErJ4wf5-BQ0",
        "outputId": "f8e36247-49a3-4bcd-fd9e-d36735e1b718"
      },
      "execution_count": 18,
      "outputs": [
        {
          "output_type": "display_data",
          "data": {
            "image/png": "[encoded data removed]",
            "text/plain": [
              "<Figure size 1008x360 with 2 Axes>"
            ]
          },
          "metadata": {
            "needs_background": "light"
          }
        }
      ]
    },
    {
      "cell_type": "code",
      "source": [
        "# a plot of some a few audio waveforms\n",
        "\n",
        "rows = 4\n",
        "cols = 3\n",
        "n = rows * cols\n",
        "fig, axes = plt.subplots(rows, cols, figsize=(20, 15))\n",
        "\n",
        "\n",
        "for i, example in  enumerate([75, 25, 5, 37,0,1,8,2,36,31,16,6]):\n",
        "  r = i // cols\n",
        "  c = i % cols\n",
        "  ax = axes[r][c]\n",
        "  waveform = train_df['audio'][example]\n",
        "  librosa.display.waveplot(waveform, ax = ax)\n",
        "  ax.set(xlabel = '')\n",
        "  ax.set_title(train_df['label_command'][example])\n",
        "\n",
        "plt.suptitle('Examples of Waveform', fontsize = 24, va = 'top', x = 0.5, y = .98)\n",
        "fig1 = plt.gcf()\n",
        "plt.show()\n",
        "fig1.savefig('./drive/MyDrive/audio_commands/visuals/waveform.png');"
      ],
      "metadata": {
        "colab": {
          "base_uri": "https://localhost:8080/",
          "height": 971
        },
        "id": "lhKRMeYFF2MC",
        "outputId": "6dafdb67-02cf-4732-c0e2-bd3a58984c3f"
      },
      "execution_count": 26,
      "outputs": [
        {
          "output_type": "display_data",
          "data": {
            "image/png": "[encoded data removed]",
            "text/plain": [
              "<Figure size 1440x1080 with 12 Axes>"
            ]
          },
          "metadata": {
            "needs_background": "light"
          }
        }
      ]
    },
    {
      "cell_type": "code",
      "source": [
        ""
      ],
      "metadata": {
        "id": "Zlr6U2UZKcuM"
      },
      "execution_count": null,
      "outputs": []
    }
  ]
}